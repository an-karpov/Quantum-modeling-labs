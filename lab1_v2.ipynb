{
 "cells": [
  {
   "cell_type": "markdown",
   "id": "7217bd92",
   "metadata": {},
   "source": [
    "Карпов Андрей (вариант 2)"
   ]
  },
  {
   "cell_type": "code",
   "execution_count": 1,
   "id": "15082159",
   "metadata": {},
   "outputs": [],
   "source": [
    "import numpy as np\n",
    "import matplotlib.pyplot as plt\n",
    "import scipy as sp"
   ]
  },
  {
   "cell_type": "code",
   "execution_count": 2,
   "id": "aa1677f2",
   "metadata": {},
   "outputs": [],
   "source": [
    "def purityCalc(rho):\n",
    "    '''Calculate purity of state @rho'''\n",
    "    return np.trace(rho.dot(rho))"
   ]
  },
  {
   "cell_type": "markdown",
   "id": "3ac78aa4",
   "metadata": {},
   "source": [
    "#### Генерация случайных квантовых состояний\n",
    "d = 5, k = 3"
   ]
  },
  {
   "cell_type": "markdown",
   "id": "823a1f7a",
   "metadata": {},
   "source": [
    "$$\\rho_{pure} = \\rho_A \\otimes \\rho_B$$\n",
    "$$\\rho_{A} = Tr_B(\\rho_{pure})$$"
   ]
  },
  {
   "cell_type": "code",
   "execution_count": 3,
   "id": "2c8e099b",
   "metadata": {},
   "outputs": [],
   "source": [
    "N = 1000\n",
    "d = 5\n",
    "k = 3\n",
    "np.random.seed(500)\n",
    "\n",
    "eigenvals = np.empty(0) \n",
    "for i in range(N):\n",
    "    \n",
    "    psi = np.array([np.random.normal(0, 1, d*k) + 1j*np.random.normal(0, 1, d*k)])\n",
    "    norm = np.sqrt(np.sum(np.abs(psi)**2))\n",
    "    psi /= norm\n",
    "\n",
    "    pure_rho = np.outer(psi, psi.conj())\n",
    "    mixed_rho = np.trace(pure_rho.reshape(d,k,d,k), axis1=1, axis2=3) # trace on subsystem\n",
    "    \n",
    "    # calculate eigenvalues\n",
    "    mixed_rho_eigen = np.linalg.eigvals(mixed_rho)\n",
    "    eigenvals = np.append(eigenvals, mixed_rho_eigen)"
   ]
  },
  {
   "cell_type": "code",
   "execution_count": 4,
   "id": "017c19e5",
   "metadata": {},
   "outputs": [
    {
     "name": "stderr",
     "output_type": "stream",
     "text": [
      "C:\\Users\\duhak\\Python\\Python310\\lib\\site-packages\\numpy\\lib\\histograms.py:852: ComplexWarning: Casting complex values to real discards the imaginary part\n",
      "  indices = f_indices.astype(np.intp)\n",
      "C:\\Users\\duhak\\Python\\Python310\\lib\\site-packages\\matplotlib\\transforms.py:775: ComplexWarning: Casting complex values to real discards the imaginary part\n",
      "  points = np.asarray(points, float)\n"
     ]
    },
    {
     "data": {
      "image/png": "[encoded data removed]",
      "text/plain": [
       "<Figure size 432x288 with 1 Axes>"
      ]
     },
     "metadata": {
      "needs_background": "light"
     },
     "output_type": "display_data"
    }
   ],
   "source": [
    "plt.hist(eigenvals, bins=30)\n",
    "plt.xlabel('Eigenvalues')\n",
    "plt.show()"
   ]
  },
  {
   "cell_type": "code",
   "execution_count": 5,
   "id": "c25c9469",
   "metadata": {},
   "outputs": [
    {
     "name": "stdout",
     "output_type": "stream",
     "text": [
      "Wall time: 5.36 s\n"
     ]
    }
   ],
   "source": [
    "%%time\n",
    "k = np.arange(1,101)\n",
    "n_aver = 50\n",
    "\n",
    "purity = []\n",
    "for k_i in k:\n",
    "    \n",
    "    purity_i = 0\n",
    "    for i in range(n_aver):\n",
    "\n",
    "        psi = np.array([np.random.normal(0, 1, d*k_i) + 1j*np.random.normal(0, 1, d*k_i)])\n",
    "        norm = np.sqrt(np.sum(np.abs(psi)**2))\n",
    "        psi /= norm\n",
    "\n",
    "        pure_rho = np.outer(psi, psi.conj())\n",
    "        mixed_rho = np.trace(pure_rho.reshape(d,k_i,d,k_i), axis1=1, axis2=3) # trace on subsystem\n",
    "        \n",
    "        purity_i += purityCalc(mixed_rho)\n",
    "    \n",
    "    purity_i = purity_i/n_aver\n",
    "    purity.append(purity_i)"
   ]
  },
  {
   "cell_type": "code",
   "execution_count": 6,
   "id": "06645921",
   "metadata": {},
   "outputs": [
    {
     "name": "stderr",
     "output_type": "stream",
     "text": [
      "C:\\Users\\duhak\\Python\\Python310\\lib\\site-packages\\matplotlib\\cbook\\__init__.py:1298: ComplexWarning: Casting complex values to real discards the imaginary part\n",
      "  return np.asarray(x, float)\n"
     ]
    },
    {
     "data": {
      "text/plain": [
       "Text(0, 0.5, 'purity')"
      ]
     },
     "execution_count": 6,
     "metadata": {},
     "output_type": "execute_result"
    },
    {
     "data": {
      "image/png": "[encoded data removed]",
      "text/plain": [
       "<Figure size 432x288 with 1 Axes>"
      ]
     },
     "metadata": {
      "needs_background": "light"
     },
     "output_type": "display_data"
    }
   ],
   "source": [
    "plt.plot(k, purity)\n",
    "plt.xlabel('k')\n",
    "plt.ylabel('purity')"
   ]
  },
  {
   "cell_type": "markdown",
   "id": "c7d2f973",
   "metadata": {},
   "source": [
    "#### Разложение Шмидта и процедура очищения"
   ]
  },
  {
   "cell_type": "code",
   "execution_count": 43,
   "id": "191d6a93",
   "metadata": {},
   "outputs": [],
   "source": [
    "def SchmidtNumberCalc(psi, n, m):\n",
    "    '''Calculate Schmidt number metric'''\n",
    "    A = psi.reshape(2**n,2**m)\n",
    "    B = A.dot(A.T.conj())\n",
    "    U, S, Vh = np.linalg.svd(B, full_matrices=True)\n",
    "    \n",
    "    return 1/(np.sum(S**2))\n",
    "\n",
    "def negativityCalc(rho, return_eigenvals=False):\n",
    "    '''Calculate Negativity metric'''\n",
    "    x = pure_rho.shape[0]//2 # parameter for partial transpose\n",
    "\n",
    "    rhoTa = pure_rho.copy()\n",
    "    rhoTa[0:x,x:], rhoTa[x:,0:x] = pure_rho[x:,0:x], pure_rho[0:x,x:]\n",
    "\n",
    "    rhoTa_eigenvals = np.linalg.eigvals(rhoTa).real\n",
    "    negativity = 0.5*np.sum(np.abs(rhoTa_eigenvals)-rhoTa_eigenvals)\n",
    "    \n",
    "    if (return_eigenvals):\n",
    "        return negativity, rhoTa_eigenvals\n",
    "    else:\n",
    "        return negativity\n",
    "\n",
    "def basis_state(state='000'):\n",
    "    '''\n",
    "    Convers qubit-ket notation state to numpy vector\n",
    "    @state - string, consisted of '0' or '1' like '001'\n",
    "    '''\n",
    "    zero_state = np.array([1,0])\n",
    "    one_state = np.array([0,1])\n",
    "    basis_1D = [zero_state, one_state]\n",
    "    \n",
    "    for i in range(len(state)):\n",
    "        if (i==0):\n",
    "            res = basis_1D[int(state[i])]\n",
    "            continue\n",
    "        res = np.kron(res, basis_1D[int(state[i])])\n",
    "        \n",
    "    return res"
   ]
  },
  {
   "cell_type": "code",
   "execution_count": 31,
   "id": "fb76f52a",
   "metadata": {},
   "outputs": [
    {
     "data": {
      "text/plain": [
       "array([ 0.        ,  0.4145781 ,  0.        , -0.375     ,  0.        ,\n",
       "        0.        ,  0.        ,  0.39528471,  0.        ,  0.        ,\n",
       "        0.        ,  0.        ,  0.        ,  0.        ,  0.        ,\n",
       "        0.72886899])"
      ]
     },
     "execution_count": 31,
     "metadata": {},
     "output_type": "execute_result"
    }
   ],
   "source": [
    "psi =  np.sqrt(11)/8*basis_state('0001') - 3/8*basis_state('0011') + np.sqrt(10)/8*basis_state('0111') + np.sqrt(34)/8*basis_state('1111')\n",
    "psi"
   ]
  },
  {
   "cell_type": "markdown",
   "id": "dab84273",
   "metadata": {},
   "source": [
    "##### Пункт 1. Разложение Шмидта."
   ]
  },
  {
   "cell_type": "code",
   "execution_count": 32,
   "id": "765026cc",
   "metadata": {},
   "outputs": [
    {
     "data": {
      "text/plain": [
       "array([8.63092189e-01, 1.36907811e-01, 1.42646465e-17, 0.00000000e+00])"
      ]
     },
     "execution_count": 32,
     "metadata": {},
     "output_type": "execute_result"
    }
   ],
   "source": [
    "# Schmidt's decomposition\n",
    "A = psi.reshape(4,4)\n",
    "B = A.dot(A.T.conj())\n",
    "U, S, Vh = np.linalg.svd(B, full_matrices=True)\n",
    "U_, S_, Vh_ = np.linalg.svd(A, full_matrices=True)\n",
    "S"
   ]
  },
  {
   "cell_type": "code",
   "execution_count": 33,
   "id": "7ab80729",
   "metadata": {},
   "outputs": [
    {
     "data": {
      "text/plain": [
       "array([ 0.       ,  0.4145781,  0.       , -0.375    ,  0.       ,\n",
       "        0.       ,  0.       ,  0.3952847,  0.       ,  0.       ,\n",
       "        0.       ,  0.       ,  0.       ,  0.       ,  0.       ,\n",
       "        0.728869 ])"
      ]
     },
     "execution_count": 33,
     "metadata": {},
     "output_type": "execute_result"
    }
   ],
   "source": [
    "psi_sch = np.zeros_like(psi)\n",
    "for i in range(4):\n",
    "    psi_sch += np.sqrt(S[i])*np.kron(U_[:,i], Vh_[i,:])\n",
    " \n",
    "psi_sch.round(7)"
   ]
  },
  {
   "cell_type": "markdown",
   "id": "55896c98",
   "metadata": {},
   "source": [
    "##### Пункт 2. Матрицы подсистем"
   ]
  },
  {
   "cell_type": "code",
   "execution_count": 34,
   "id": "8ac5d85f",
   "metadata": {},
   "outputs": [],
   "source": [
    "# matrices of subsystems\n",
    "rhoA = np.zeros((4,4))\n",
    "rhoB = np.zeros((4,4))\n",
    "for i in range(4):\n",
    "    rhoA += S[i]*np.outer(U_[:,i], U_[:,i].conj())\n",
    "    rhoB += S[i]*np.outer(Vh_[i,:], Vh_[i,:].conj())"
   ]
  },
  {
   "cell_type": "code",
   "execution_count": 35,
   "id": "b1f17b12",
   "metadata": {},
   "outputs": [
    {
     "name": "stdout",
     "output_type": "stream",
     "text": [
      "Schmidt method\n",
      "rho_A \n",
      " [[ 0.313 -0.148  0.    -0.273]\n",
      " [-0.148  0.156  0.     0.288]\n",
      " [ 0.     0.     0.     0.   ]\n",
      " [-0.273  0.288  0.     0.531]]\n",
      "rho_B \n",
      " [[ 0.     0.     0.     0.   ]\n",
      " [ 0.     0.172  0.    -0.155]\n",
      " [ 0.     0.     0.     0.   ]\n",
      " [ 0.    -0.155  0.     0.828]]\n"
     ]
    }
   ],
   "source": [
    "print('Schmidt method')\n",
    "print('rho_A \\n', rhoA.round(3))\n",
    "print('rho_B \\n', rhoB.round(3))"
   ]
  },
  {
   "cell_type": "code",
   "execution_count": 36,
   "id": "7664ac83",
   "metadata": {},
   "outputs": [],
   "source": [
    "pure_rho = np.outer(psi, psi.conj())\n",
    "rhoA_trace = np.trace(pure_rho.reshape(4,4,4,4), axis1=1, axis2=3)\n",
    "rhoB_trace = np.trace(pure_rho.reshape(4,4,4,4), axis1=0, axis2=2)"
   ]
  },
  {
   "cell_type": "code",
   "execution_count": 37,
   "id": "14921acd",
   "metadata": {},
   "outputs": [
    {
     "name": "stdout",
     "output_type": "stream",
     "text": [
      "Trace method\n",
      "rho_A \n",
      " [[ 0.312 -0.148  0.    -0.273]\n",
      " [-0.148  0.156  0.     0.288]\n",
      " [ 0.     0.     0.     0.   ]\n",
      " [-0.273  0.288  0.     0.531]]\n",
      "rho_B \n",
      " [[ 0.     0.     0.     0.   ]\n",
      " [ 0.     0.172  0.    -0.155]\n",
      " [ 0.     0.     0.     0.   ]\n",
      " [ 0.    -0.155  0.     0.828]]\n"
     ]
    }
   ],
   "source": [
    "print('Trace method')\n",
    "print('rho_A \\n', rhoA_trace.round(3))\n",
    "print('rho_B \\n', rhoB_trace.round(3))"
   ]
  },
  {
   "cell_type": "markdown",
   "id": "c7f8fa9d",
   "metadata": {},
   "source": [
    "##### Пункт 3. Число Шмидта."
   ]
  },
  {
   "cell_type": "code",
   "execution_count": 38,
   "id": "544d6d32",
   "metadata": {},
   "outputs": [
    {
     "name": "stdout",
     "output_type": "stream",
     "text": [
      "Число Шмидта: 1.3094629156010227\n",
      "Коэффициент корреляции Шмидта: 0.44459228515624966\n"
     ]
    }
   ],
   "source": [
    "K = 1/(np.sum(S**2))\n",
    "K_corr = 16/(16-1)*(1-1/K**2)\n",
    "print('Число Шмидта:', K)\n",
    "print('Коэффициент корреляции Шмидта:', K_corr)"
   ]
  },
  {
   "cell_type": "markdown",
   "id": "dfff14e2",
   "metadata": {},
   "source": [
    "##### Пункт 4. Negativity."
   ]
  },
  {
   "cell_type": "code",
   "execution_count": 42,
   "id": "1c219b0a",
   "metadata": {},
   "outputs": [
    {
     "name": "stdout",
     "output_type": "stream",
     "text": [
      "Negativity 0.4074501503251655\n"
     ]
    }
   ],
   "source": [
    "pure_rho = np.outer(psi, psi.conj())\n",
    "x = pure_rho.shape[0]//2 # parameter for partial transpose\n",
    "\n",
    "rhoTa = pure_rho.copy()\n",
    "rhoTa[0:x,x:], rhoTa[x:,0:x] = pure_rho[x:,0:x], pure_rho[0:x,x:]\n",
    "\n",
    "rhoTa_eigenvals = np.linalg.eigvals(rhoTa)\n",
    "negativity = 0.5*np.sum(np.abs(rhoTa_eigenvals)-rhoTa_eigenvals)\n",
    "print('Negativity', negativity)"
   ]
  },
  {
   "cell_type": "markdown",
   "id": "afca12bd",
   "metadata": {},
   "source": [
    "Как видно коэффициент кореляции Шмидта близок по значению с negativity, что в какой-то мере говорит об их эквивалентности в качестве метрик запутанности"
   ]
  },
  {
   "cell_type": "code",
   "execution_count": 40,
   "id": "c8bb40c9",
   "metadata": {},
   "outputs": [
    {
     "data": {
      "text/plain": [
       "array([-4.07450150e-01,  7.89800578e-01,  4.07450150e-01,  2.10199422e-01,\n",
       "       -1.16032323e-17,  4.66444869e-17,  0.00000000e+00,  0.00000000e+00,\n",
       "        0.00000000e+00,  0.00000000e+00,  0.00000000e+00,  0.00000000e+00,\n",
       "        0.00000000e+00,  0.00000000e+00,  0.00000000e+00,  0.00000000e+00])"
      ]
     },
     "execution_count": 40,
     "metadata": {},
     "output_type": "execute_result"
    }
   ],
   "source": [
    "rhoTa_eigenvals"
   ]
  },
  {
   "cell_type": "code",
   "execution_count": 41,
   "id": "4b1ec450",
   "metadata": {},
   "outputs": [
    {
     "name": "stdout",
     "output_type": "stream",
     "text": [
      "[[ 1  2  3  4]\n",
      " [ 5  6  7  8]\n",
      " [ 9 10 11 12]\n",
      " [13 14 15 16]]\n",
      " \n",
      "[[ 1  2  9 10]\n",
      " [ 5  6 13 14]\n",
      " [ 3  4 11 12]\n",
      " [ 7  8 15 16]]\n"
     ]
    }
   ],
   "source": [
    "# test of partial transponation\n",
    "rho_test = np.arange(1,17).reshape(4,4)\n",
    "x = rho_test.shape[0]//2 # parameter for partial transpose\n",
    "\n",
    "rhoTa = rho_test.copy()\n",
    "rhoTa[0:x,x:], rhoTa[x:,0:x] = rho_test[x:,0:x], rho_test[0:x,x:]\n",
    "print(rho_test)\n",
    "print(' ')\n",
    "print(rhoTa)"
   ]
  },
  {
   "cell_type": "markdown",
   "id": "b1acb146",
   "metadata": {},
   "source": [
    "##### Пункт 5. Чистое случайное состояние.\n"
   ]
  },
  {
   "cell_type": "code",
   "execution_count": 45,
   "id": "aa79a3ea",
   "metadata": {},
   "outputs": [
    {
     "name": "stdout",
     "output_type": "stream",
     "text": [
      "Среднее K:  2.17360653292065\n",
      "Среднее negativity:  0.45728019313603624\n"
     ]
    }
   ],
   "source": [
    "N = 100\n",
    "n = 4\n",
    "dim = 2**n\n",
    "\n",
    "K_aver = 0\n",
    "\n",
    "negativity_aver = 0\n",
    "\n",
    "for i in range(N):\n",
    "    psi = np.array([np.random.normal(0, 1, dim) + 1j*np.random.normal(0, 1, dim)])\n",
    "    norm = np.linalg.norm(psi)\n",
    "    psi /= norm\n",
    "\n",
    "    pure_rho = np.outer(psi, psi.conj())\n",
    "\n",
    "    negativity_aver += negativityCalc(pure_rho)\n",
    "    K_aver += SchmidtNumberCalc(psi, 2,2)\n",
    "    \n",
    "K_aver /= N\n",
    "negativity_aver /= N\n",
    "\n",
    "print('Среднее K: ', K_aver)\n",
    "print('Среднее negativity: ', negativity_aver)"
   ]
  },
  {
   "cell_type": "markdown",
   "id": "c141a0dd",
   "metadata": {},
   "source": [
    "Как видно при усреднении по случайно сгенерированным чистым состояниям обе величины отличны от значений для незапутанных состояний."
   ]
  },
  {
   "cell_type": "code",
   "execution_count": null,
   "id": "b0f8e2e4",
   "metadata": {},
   "outputs": [],
   "source": []
  },
  {
   "cell_type": "code",
   "execution_count": null,
   "id": "97decc4a",
   "metadata": {},
   "outputs": [],
   "source": []
  }
 ],
 "metadata": {
  "kernelspec": {
   "display_name": "Python 3 (ipykernel)",
   "language": "python",
   "name": "python3"
  },
  "language_info": {
   "codemirror_mode": {
    "name": "ipython",
    "version": 3
   },
   "file_extension": ".py",
   "mimetype": "text/x-python",
   "name": "python",
   "nbconvert_exporter": "python",
   "pygments_lexer": "ipython3",
   "version": "3.10.1"
  }
 },
 "nbformat": 4,
 "nbformat_minor": 5
}
