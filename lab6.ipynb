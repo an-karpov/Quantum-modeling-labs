{
 "cells": [
  {
   "cell_type": "code",
   "execution_count": 1,
   "id": "09c7fa90",
   "metadata": {},
   "outputs": [],
   "source": [
    "import numpy as np\n",
    "import matplotlib.pyplot as plt\n",
    "import scipy as sp\n",
    "from scipy.linalg import expm, sqrtm\n",
    "\n",
    "def Fidelity(rho_0, rho_1):\n",
    "    '''\n",
    "    calculate Fidelity of @rho_0 and @rho_1\n",
    "    '''\n",
    "    \n",
    "    sqrt_rho_0 = sqrtm(rho_0)\n",
    "    #sqrt_rho_0 = sp.linalg.sqrtm(rho_0)\n",
    "    F = np.trace(sqrtm(sqrt_rho_0 @ rho_1 @ sqrt_rho_0))**2\n",
    "    return F"
   ]
  },
  {
   "cell_type": "code",
   "execution_count": 2,
   "id": "80652103",
   "metadata": {},
   "outputs": [],
   "source": [
    "zero = np.array([1., 0.])\n",
    "one = np.array([0., 1.])\n",
    "\n",
    "I = np.identity(2, dtype=np.complex64)\n",
    "H = 1/np.sqrt(2)*np.array([[1, 1],\n",
    "                           [1, -1]], dtype=np.complex64)\n",
    "X = np.array([[0., 1.],\n",
    "              [1., 0.]], dtype=np.complex64)\n",
    "Z = np.array([[1., 0.],\n",
    "              [0., -1.]], dtype=np.complex64)\n",
    "S = np.array([[1., 0.],\n",
    "              [0., 1j]], dtype=np.complex64)\n",
    "P0 = np.array([[1., 0.],\n",
    "              [0., 0.]], dtype=np.complex64)\n",
    "P1 = np.array([[0., 0.],\n",
    "              [0., 1.]], dtype=np.complex64)\n",
    "\n",
    "def NKron(*args):\n",
    "    '''\n",
    "    return kroneker product of matrices\n",
    "    '''\n",
    "    result = np.array([[1.0]])\n",
    "    for op in args:\n",
    "        result = np.kron(result, op)\n",
    "    return result\n",
    "\n",
    "def ThreeQubitCoding(psi):\n",
    "    psi00 = NKron(psi, zero, zero)[0]\n",
    "    CNOT01 = NKron(P0, I, I) + NKron(P1, X, I)\n",
    "    CNOT02 = NKron(P0, I, I) + NKron(P1, I, X)\n",
    "    H3 = NKron(H, H, H)\n",
    "    \n",
    "    result = np.identity(2**3, dtype=np.complex64)\n",
    "    result = H3 @ CNOT02 @ CNOT01\n",
    "    \n",
    "    return np.dot(result, psi00)"
   ]
  },
  {
   "cell_type": "code",
   "execution_count": 3,
   "id": "10e8f515",
   "metadata": {},
   "outputs": [],
   "source": [
    "# кодирование состояния\n",
    "psi = 1/np.sqrt(2)*np.array([1, np.exp(3*np.pi*1j/7)])\n",
    "psi_L = ThreeQubitCoding(psi)\n",
    "rho0 = np.outer(psi_L.conj(), psi_L)\n",
    "#psi_L = np.dot(NKron(I, Z, I), psi_L)"
   ]
  },
  {
   "cell_type": "code",
   "execution_count": 112,
   "id": "af602e42",
   "metadata": {},
   "outputs": [],
   "source": [
    "def ErrorCorrection(state):\n",
    "    \n",
    "    H3 = NKron(H, H, H, I, I)\n",
    "    CNOT03 = NKron(P0, I, I, I, I) + NKron(P1, I, I, X, I)\n",
    "    CNOT14 = NKron(I, P0, I, I, I) + NKron(I, P1, I, I, X)\n",
    "    CNOT13 = NKron(I, P0, I, I, I) + NKron(I, P1, I, X, I)\n",
    "    CNOT24 = NKron(I, I, P0, I, I) + NKron(I, I, P1, I, X)\n",
    "    \n",
    "    U = H3 @ CNOT24 @ CNOT13 @ CNOT14 @ CNOT03 @ H3\n",
    "    \n",
    "    if state.ndim == 1:\n",
    "        psi_L_with_ancilla_bit = NKron(state, zero, zero)[0]\n",
    "        \n",
    "        result = U @ psi_L_with_ancilla_bit\n",
    "        return result\n",
    "    \n",
    "    elif state.ndim == 2:\n",
    "        rho_with_ancilla_bit = NKron(state, P0, P0)\n",
    "        \n",
    "        result = U @ rho_with_ancilla_bit @ U.conj().T\n",
    "        return result\n",
    "    else:\n",
    "        return None\n",
    "\n",
    "def FixErrorZ(state_correction):\n",
    "    # редуцируем состояние по вспомогательным кубитам\n",
    "    if state_correction.ndim == 1:\n",
    "        rho = np.outer(state_correction.conj(), state_correction)\n",
    "    else: \n",
    "        rho = state_correction.copy()\n",
    "\n",
    "    rho1 = np.trace(rho.reshape([16, 2, 16, 2]), axis1=1, axis2=3)\n",
    "    rho_res = np.trace(rho1.reshape([8, 2, 8, 2]), axis1=1, axis2=3)\n",
    "    \n",
    "    # измерим синдром ошибки\n",
    "    rho3 = np.trace(rho.reshape([16, 2, 16, 2]), axis1=0, axis2=2)\n",
    "    rho4 = np.trace(rho1.reshape([8, 2, 8, 2]), axis1=0, axis2=2)\n",
    "    \n",
    "    state1 = np.round(rho3[1,1].real)\n",
    "    state2 = np.round(rho4[1,1].real)\n",
    "    #print(\"state1: \", rho3)\n",
    "    #print(\"state2\", rho4)\n",
    "    \n",
    "    if np.isclose(state1, 1) and np.isclose(state2, 0):\n",
    "        Z3 = NKron(I, I, Z)\n",
    "        result = Z3 @ rho_res @ Z3.conj().T\n",
    "        \n",
    "        return result\n",
    "    \n",
    "    elif np.isclose(state1, 0) and np.isclose(state2, 1):\n",
    "        Z1 = NKron(Z, I, I)\n",
    "        result = Z1 @ rho_res @ Z1.conj().T\n",
    "        # print(\"Z1\")\n",
    "        \n",
    "        return result\n",
    "    \n",
    "    elif np.isclose(state1, 1) and np.isclose(state2, 1):\n",
    "        Z2 = NKron(I, Z, I)\n",
    "        result = Z2 @ rho_res @ Z2.conj().T\n",
    "        \n",
    "        return result\n",
    "    else:\n",
    "        \n",
    "        return rho_res"
   ]
  },
  {
   "cell_type": "markdown",
   "id": "41375ff3",
   "metadata": {},
   "source": [
    "Для начала проверим, что корреекция ошибок не меняет исходное состояние без ошибок"
   ]
  },
  {
   "cell_type": "code",
   "execution_count": 113,
   "id": "8eef3f82",
   "metadata": {},
   "outputs": [],
   "source": [
    "psi_correction = ErrorCorrection(psi_L)\n",
    "rho_ideal = FixErrorZ(psi_correction)"
   ]
  },
  {
   "cell_type": "code",
   "execution_count": 114,
   "id": "c8322de0",
   "metadata": {},
   "outputs": [
    {
     "data": {
      "text/plain": [
       "(0.9999996094016819-7.3939484094884134e-09j)"
      ]
     },
     "execution_count": 114,
     "metadata": {},
     "output_type": "execute_result"
    }
   ],
   "source": [
    "Fidelity(rho0, rho_ideal)"
   ]
  },
  {
   "cell_type": "markdown",
   "id": "59ffb15d",
   "metadata": {},
   "source": [
    "#### Пункт 4"
   ]
  },
  {
   "cell_type": "code",
   "execution_count": 115,
   "id": "ffc0040a",
   "metadata": {},
   "outputs": [
    {
     "name": "stdout",
     "output_type": "stream",
     "text": [
      "Ошибка в первом кубите 1.000\n",
      "Ошибка во втором кубите 1.000\n",
      "Ошибка в третьем кубите 1.000\n"
     ]
    }
   ],
   "source": [
    "Z1 = NKron(Z, I, I)\n",
    "psi_error1 = Z1 @ psi_L\n",
    "\n",
    "psi_correction = ErrorCorrection(psi_error1)\n",
    "rho1 = FixErrorZ(psi_correction)\n",
    "fid1 = np.abs(Fidelity(rho0, rho1))\n",
    "\n",
    "Z2 = NKron(I, Z, I)\n",
    "psi_error2 = Z2 @ psi_L\n",
    "\n",
    "psi_correction = ErrorCorrection(psi_error2)\n",
    "rho2 = FixErrorZ(psi_correction)\n",
    "fid2 = np.abs(Fidelity(rho0, rho2))\n",
    "\n",
    "Z3 = NKron(I, I, Z)\n",
    "psi_error3 = Z3 @ psi_L\n",
    "\n",
    "psi_correction = ErrorCorrection(psi_error3)\n",
    "rho3 = FixErrorZ(psi_correction)\n",
    "fid3 = np.abs(Fidelity(rho0, rho3))\n",
    "\n",
    "print(\"Ошибка в первом кубите {:.3f}\".format(fid1))\n",
    "print(\"Ошибка во втором кубите {:.3f}\".format(fid2))\n",
    "print(\"Ошибка в третьем кубите {:.3f}\".format(fid3))"
   ]
  },
  {
   "cell_type": "markdown",
   "id": "c28b3add-ee91-47d7-a4d6-6ae244882387",
   "metadata": {},
   "source": [
    "#### Пункт№5"
   ]
  },
  {
   "cell_type": "code",
   "execution_count": 142,
   "id": "0ce38c4b-2efb-4184-9fcd-d42b5f703727",
   "metadata": {},
   "outputs": [],
   "source": [
    "def Craus(rho_in, E):\n",
    "    rho_out = np.zeros_like(rho_in)\n",
    "    \n",
    "    for j in range(len(E)):\n",
    "        rho_out += E[j] @ rho_in @ E[j].T.conj()\n",
    "            \n",
    "    return rho_out\n",
    "\n",
    "def Craus_3qubit(rho_in, E):\n",
    "    rho_out = np.zeros_like(rho_in)\n",
    "    rho_out1 = np.zeros_like(rho_in)\n",
    "    rho_out2 = np.zeros_like(rho_in)\n",
    "    \n",
    "    for j in range(len(E)):\n",
    "        rho_out += NKron(E[j], I, I) @ rho_in @ NKron(E[j], I, I).T.conj()\n",
    "        \n",
    "    for j in range(len(E)):\n",
    "        rho_out1 += NKron(I, E[j], I) @ rho_out @ NKron(I, E[j], I).T.conj()\n",
    "        \n",
    "    for j in range(len(E)):\n",
    "        rho_out2 += NKron(I, I, E[j]) @ rho_out1 @ NKron(I, I, E[j]).T.conj()\n",
    "    \n",
    "    #rho_out /= rho_out.trace()\n",
    "    return rho_out2\n",
    "\n",
    "E1 = lambda p: np.sqrt(0.8*p)*Z\n",
    "E2 = lambda p: np.sqrt(0.2*p)*S \n",
    "# E2 = lambda p: 0*I\n",
    "E0 = lambda p: np.sqrt(1-p)*I "
   ]
  },
  {
   "cell_type": "code",
   "execution_count": 143,
   "id": "5be1c442",
   "metadata": {
    "tags": []
   },
   "outputs": [],
   "source": [
    "p_max = 0.9\n",
    "p_arr = np.linspace(0, p_max, 100)\n",
    "fid_arr_with_corr = np.zeros_like(p_arr)\n",
    "fid_arr_no_corr = np.zeros_like(p_arr)\n",
    "\n",
    "for i in range(len(p_arr)):\n",
    "    # с кодом коррекции\n",
    "    p = p_arr[i]\n",
    "    # E = [NKron(E0(p), E0(p), E0(p)), NKron(E1(p), E1(p), E1(p)), NKron(E2(p), E2(p), E2(p))]\n",
    "    # rho_error = Craus(rho0, E)\n",
    "    E = [E0(p), E1(p), E2(p)]\n",
    "    rho_error = Craus_3qubit(rho0, E)\n",
    "    rho_correction = ErrorCorrection(rho_error)\n",
    "    rho_res = FixErrorZ(rho_correction)\n",
    "    \n",
    "    # print(rho_res.trace())\n",
    "\n",
    "    fid_arr_with_corr[i] = np.abs(Fidelity(rho0, rho_res))\n",
    "    \n",
    "    # без кода коррекции\n",
    "    E_ = [E0(p), E1(p), E2(p)]\n",
    "    rho_one_qubit = np.outer(psi.conj(), psi)\n",
    "    rho_error = Craus(rho_one_qubit, E_)\n",
    "    fid_arr_no_corr[i] = np.abs(Fidelity(rho_one_qubit, rho_error))\n",
    "    \n",
    "    # fid_arr_no_corr[i] = np.abs(Fidelity(rho0, rho_error))"
   ]
  },
  {
   "cell_type": "code",
   "execution_count": 144,
   "id": "c23a1e6a-e71f-470e-ac33-62b984a7d2f4",
   "metadata": {},
   "outputs": [
    {
     "data": {
      "image/png": "[encoded data removed]",
      "text/plain": [
       "<Figure size 576x432 with 1 Axes>"
      ]
     },
     "metadata": {
      "needs_background": "light"
     },
     "output_type": "display_data"
    }
   ],
   "source": [
    "plt.figure(figsize=(8,6))\n",
    "\n",
    "plt.plot(p_arr, fid_arr_with_corr, label='с коррекцией')\n",
    "plt.plot(p_arr, fid_arr_no_corr, label='без коррекции')\n",
    "\n",
    "plt.xlabel(\"p\", fontsize=14)\n",
    "plt.ylabel(\"fidelity\", fontsize=14)\n",
    "\n",
    "plt.legend()\n",
    "plt.grid(True)"
   ]
  },
  {
   "cell_type": "code",
   "execution_count": null,
   "id": "ad351f14-8be5-452c-ab87-3030cb00790e",
   "metadata": {},
   "outputs": [],
   "source": []
  },
  {
   "cell_type": "code",
   "execution_count": null,
   "id": "bb488c29-3064-4afe-888a-d787731cef1b",
   "metadata": {},
   "outputs": [],
   "source": []
  },
  {
   "cell_type": "code",
   "execution_count": null,
   "id": "1c26fc97-e82c-42d7-a5ad-c28668ff1c16",
   "metadata": {},
   "outputs": [],
   "source": []
  },
  {
   "cell_type": "code",
   "execution_count": null,
   "id": "0b15328d-a367-43d9-accf-1f5c791f37ef",
   "metadata": {},
   "outputs": [],
   "source": []
  },
  {
   "cell_type": "code",
   "execution_count": null,
   "id": "0adca89a-6541-4953-b24c-bfb846dd36db",
   "metadata": {},
   "outputs": [],
   "source": []
  },
  {
   "cell_type": "code",
   "execution_count": null,
   "id": "9509f421-b242-4a1b-b111-c0155493bd78",
   "metadata": {},
   "outputs": [],
   "source": []
  },
  {
   "cell_type": "code",
   "execution_count": null,
   "id": "c2c65308-fd22-46d9-a6c0-e1ed642f9fee",
   "metadata": {},
   "outputs": [],
   "source": []
  },
  {
   "cell_type": "code",
   "execution_count": null,
   "id": "acccb802-7573-477b-8865-e2a064e02e7a",
   "metadata": {},
   "outputs": [],
   "source": []
  },
  {
   "cell_type": "code",
   "execution_count": null,
   "id": "127b9ddc-72de-4920-a22a-6147d02dd7d9",
   "metadata": {},
   "outputs": [],
   "source": []
  },
  {
   "cell_type": "code",
   "execution_count": null,
   "id": "e58680ad-1102-418e-a0aa-baf26525b382",
   "metadata": {},
   "outputs": [],
   "source": []
  },
  {
   "cell_type": "code",
   "execution_count": 77,
   "id": "dbdae1a2-7a72-49d4-8fb2-9921be4ebf06",
   "metadata": {},
   "outputs": [],
   "source": [
    "def printMatrix(A):\n",
    "    for i in range(A.shape[0]):\n",
    "        for j in range(A.shape[1]):\n",
    "            print(\"{:.3f}| \".format(A[i][j]), end=''),\n",
    "        print(\"\\n\")"
   ]
  },
  {
   "cell_type": "code",
   "execution_count": 79,
   "id": "08ac9c5d-0bcc-4fcd-a98b-66c696d27409",
   "metadata": {},
   "outputs": [
    {
     "name": "stdout",
     "output_type": "stream",
     "text": [
      "0.153+0.000j| -0.000-0.122j| -0.000-0.122j| 0.153+0.000j| -0.000-0.122j| 0.153+0.000j| 0.153+0.000j| -0.000-0.122j| \n",
      "\n",
      "-0.000+0.122j| 0.097+0.000j| 0.097+0.000j| -0.000+0.122j| 0.097+0.000j| -0.000+0.122j| -0.000+0.122j| 0.097+0.000j| \n",
      "\n",
      "-0.000+0.122j| 0.097+0.000j| 0.097+0.000j| -0.000+0.122j| 0.097+0.000j| -0.000+0.122j| -0.000+0.122j| 0.097+0.000j| \n",
      "\n",
      "0.153+0.000j| -0.000-0.122j| -0.000-0.122j| 0.153+0.000j| -0.000-0.122j| 0.153+0.000j| 0.153+0.000j| -0.000-0.122j| \n",
      "\n",
      "-0.000+0.122j| 0.097+0.000j| 0.097+0.000j| -0.000+0.122j| 0.097+0.000j| -0.000+0.122j| -0.000+0.122j| 0.097+0.000j| \n",
      "\n",
      "0.153+0.000j| -0.000-0.122j| -0.000-0.122j| 0.153+0.000j| -0.000-0.122j| 0.153+0.000j| 0.153+0.000j| -0.000-0.122j| \n",
      "\n",
      "0.153+0.000j| -0.000-0.122j| -0.000-0.122j| 0.153+0.000j| -0.000-0.122j| 0.153+0.000j| 0.153+0.000j| -0.000-0.122j| \n",
      "\n",
      "-0.000+0.122j| 0.097+0.000j| 0.097+0.000j| -0.000+0.122j| 0.097+0.000j| -0.000+0.122j| -0.000+0.122j| 0.097+0.000j| \n",
      "\n"
     ]
    }
   ],
   "source": [
    "# кодирование состояния\n",
    "psi = 1/np.sqrt(2)*np.array([1, np.exp(3*np.pi*1j/7)])\n",
    "psi_L = ThreeQubitCoding(psi)\n",
    "rho0 = np.outer(psi_L.conj(), psi_L)\n",
    "\n",
    "printMatrix(rho0)"
   ]
  },
  {
   "cell_type": "code",
   "execution_count": null,
   "id": "e9af5bb3-721a-4ab9-a6a8-581cce03a1e8",
   "metadata": {},
   "outputs": [],
   "source": []
  },
  {
   "cell_type": "code",
   "execution_count": 109,
   "id": "3f345008-8973-4b6b-a717-1bea526e0159",
   "metadata": {},
   "outputs": [
    {
     "name": "stdout",
     "output_type": "stream",
     "text": [
      "Сравнение состояния и ошибкой и без\n",
      " [[ True  True  True  True False False False False]\n",
      " [ True  True  True  True False False False False]\n",
      " [ True  True  True  True False False False False]\n",
      " [ True  True  True  True False False False False]\n",
      " [False False False False  True  True  True  True]\n",
      " [False False False False  True  True  True  True]\n",
      " [False False False False  True  True  True  True]\n",
      " [False False False False  True  True  True  True]]\n",
      "0.153+0.000j| -0.000-0.122j| -0.000-0.122j| 0.153+0.000j| 0.000+0.000j| 0.000+0.000j| 0.000+0.000j| 0.000+0.000j| \n",
      "\n",
      "-0.000+0.122j| 0.097+0.000j| 0.097+0.000j| -0.000+0.122j| 0.000+0.000j| 0.000+0.000j| 0.000+0.000j| 0.000+0.000j| \n",
      "\n",
      "-0.000+0.122j| 0.097+0.000j| 0.097+0.000j| -0.000+0.122j| 0.000+0.000j| 0.000+0.000j| 0.000+0.000j| 0.000+0.000j| \n",
      "\n",
      "0.153+0.000j| -0.000-0.122j| -0.000-0.122j| 0.153+0.000j| 0.000+0.000j| 0.000+0.000j| 0.000+0.000j| 0.000+0.000j| \n",
      "\n",
      "0.000+0.000j| 0.000+0.000j| 0.000+0.000j| 0.000+0.000j| 0.097+0.000j| -0.000+0.122j| -0.000+0.122j| 0.097+0.000j| \n",
      "\n",
      "0.000+0.000j| 0.000+0.000j| 0.000+0.000j| 0.000+0.000j| -0.000-0.122j| 0.153+0.000j| 0.153+0.000j| -0.000-0.122j| \n",
      "\n",
      "0.000+0.000j| 0.000+0.000j| 0.000+0.000j| 0.000+0.000j| -0.000-0.122j| 0.153+0.000j| 0.153+0.000j| -0.000-0.122j| \n",
      "\n",
      "0.000+0.000j| 0.000+0.000j| 0.000+0.000j| 0.000+0.000j| 0.097+0.000j| -0.000+0.122j| -0.000+0.122j| 0.097+0.000j| \n",
      "\n",
      "После коррекции:\n",
      "0.153+0.000j| -0.000-0.122j| -0.000-0.122j| 0.153+0.000j| -0.000+0.000j| 0.000+0.000j| 0.000+0.000j| -0.000+0.000j| \n",
      "\n",
      "-0.000+0.122j| 0.097+0.000j| 0.097+0.000j| -0.000+0.122j| 0.000+0.000j| -0.000+0.000j| -0.000+0.000j| 0.000+0.000j| \n",
      "\n",
      "-0.000+0.122j| 0.097+0.000j| 0.097+0.000j| -0.000+0.122j| 0.000-0.000j| -0.000+0.000j| -0.000+0.000j| 0.000+0.000j| \n",
      "\n",
      "0.153+0.000j| -0.000-0.122j| -0.000-0.122j| 0.153+0.000j| -0.000+0.000j| 0.000+0.000j| 0.000+0.000j| -0.000+0.000j| \n",
      "\n",
      "-0.000+0.000j| 0.000+0.000j| 0.000-0.000j| -0.000+0.000j| 0.097+0.000j| -0.000+0.122j| -0.000+0.122j| 0.097+0.000j| \n",
      "\n",
      "0.000+0.000j| -0.000+0.000j| -0.000+0.000j| 0.000+0.000j| -0.000-0.122j| 0.153+0.000j| 0.153+0.000j| -0.000-0.122j| \n",
      "\n",
      "0.000+0.000j| -0.000+0.000j| -0.000+0.000j| 0.000+0.000j| -0.000-0.122j| 0.153+0.000j| 0.153+0.000j| -0.000-0.122j| \n",
      "\n",
      "-0.000+0.000j| 0.000-0.000j| 0.000+0.000j| -0.000+0.000j| 0.097+0.000j| -0.000+0.122j| -0.000+0.122j| 0.097+0.000j| \n",
      "\n"
     ]
    }
   ],
   "source": [
    "p = 0.5\n",
    "E = [E0(p), E1(p)]\n",
    "\n",
    "rho_error = Craus_3qubit(rho0, E)\n",
    "print(\"Сравнение состояния и ошибкой и без\\n\", np.isclose(rho0, rho_error))\n",
    "printMatrix(rho_error)\n",
    "rho_correction = ErrorCorrection(rho_error)\n",
    "rho_res = FixErrorZ(rho_correction)\n",
    "print(\"После коррекции:\")\n",
    "printMatrix(rho_res)"
   ]
  },
  {
   "cell_type": "markdown",
   "id": "50eb4838-65e9-459f-a961-42626fce50f3",
   "metadata": {},
   "source": [
    "#### проверим, через чистое состояние"
   ]
  },
  {
   "cell_type": "code",
   "execution_count": 102,
   "id": "8de8d95e-2c34-4c56-acf8-2435db293f08",
   "metadata": {},
   "outputs": [
    {
     "name": "stdout",
     "output_type": "stream",
     "text": [
      "0.153+0.000j| -0.000-0.122j| 0.000+0.122j| -0.153+0.000j| -0.000-0.122j| 0.153+0.000j| -0.153+0.000j| 0.000+0.122j| \n",
      "\n",
      "-0.000+0.122j| 0.097+0.000j| -0.097+0.000j| 0.000-0.122j| 0.097+0.000j| -0.000+0.122j| 0.000-0.122j| -0.097+0.000j| \n",
      "\n",
      "0.000-0.122j| -0.097+0.000j| 0.097+0.000j| -0.000+0.122j| -0.097+0.000j| 0.000-0.122j| -0.000+0.122j| 0.097+0.000j| \n",
      "\n",
      "-0.153+0.000j| 0.000+0.122j| -0.000-0.122j| 0.153+0.000j| 0.000+0.122j| -0.153+0.000j| 0.153+0.000j| -0.000-0.122j| \n",
      "\n",
      "-0.000+0.122j| 0.097+0.000j| -0.097+0.000j| 0.000-0.122j| 0.097+0.000j| -0.000+0.122j| 0.000-0.122j| -0.097+0.000j| \n",
      "\n",
      "0.153+0.000j| -0.000-0.122j| 0.000+0.122j| -0.153+0.000j| -0.000-0.122j| 0.153+0.000j| -0.153+0.000j| 0.000+0.122j| \n",
      "\n",
      "-0.153+0.000j| 0.000+0.122j| -0.000-0.122j| 0.153+0.000j| 0.000+0.122j| -0.153+0.000j| 0.153+0.000j| -0.000-0.122j| \n",
      "\n",
      "0.000-0.122j| -0.097+0.000j| 0.097+0.000j| -0.000+0.122j| -0.097+0.000j| 0.000-0.122j| -0.000+0.122j| 0.097+0.000j| \n",
      "\n"
     ]
    }
   ],
   "source": [
    "psi_error1 = Z2 @ psi_L\n",
    "rho_error1 = np.outer(psi_error1.conj(), psi_error1)\n",
    "printMatrix(rho_error1)"
   ]
  },
  {
   "cell_type": "code",
   "execution_count": 106,
   "id": "2da38fe3-80e6-4cef-a588-54997b659fa3",
   "metadata": {},
   "outputs": [
    {
     "name": "stdout",
     "output_type": "stream",
     "text": [
      "0.153+0.000j| -0.000-0.122j| 0.000+0.000j| 0.000+0.000j| -0.000-0.122j| 0.153+0.000j| 0.000+0.000j| 0.000+0.000j| \n",
      "\n",
      "-0.000+0.122j| 0.097+0.000j| 0.000+0.000j| 0.000+0.000j| 0.097+0.000j| -0.000+0.122j| 0.000+0.000j| 0.000+0.000j| \n",
      "\n",
      "0.000+0.000j| 0.000+0.000j| 0.097+0.000j| -0.000+0.122j| 0.000+0.000j| 0.000+0.000j| -0.000+0.122j| 0.097+0.000j| \n",
      "\n",
      "0.000+0.000j| 0.000+0.000j| -0.000-0.122j| 0.153+0.000j| 0.000+0.000j| 0.000+0.000j| 0.153+0.000j| -0.000-0.122j| \n",
      "\n",
      "-0.000+0.122j| 0.097+0.000j| 0.000+0.000j| 0.000+0.000j| 0.097+0.000j| -0.000+0.122j| 0.000+0.000j| 0.000+0.000j| \n",
      "\n",
      "0.153+0.000j| -0.000-0.122j| 0.000+0.000j| 0.000+0.000j| -0.000-0.122j| 0.153+0.000j| 0.000+0.000j| 0.000+0.000j| \n",
      "\n",
      "0.000+0.000j| 0.000+0.000j| -0.000-0.122j| 0.153+0.000j| 0.000+0.000j| 0.000+0.000j| 0.153+0.000j| -0.000-0.122j| \n",
      "\n",
      "0.000+0.000j| 0.000+0.000j| 0.097+0.000j| -0.000+0.122j| 0.000+0.000j| 0.000+0.000j| -0.000+0.122j| 0.097+0.000j| \n",
      "\n"
     ]
    },
    {
     "data": {
      "text/plain": [
       "(0.9999998973143779+0j)"
      ]
     },
     "execution_count": 106,
     "metadata": {},
     "output_type": "execute_result"
    }
   ],
   "source": [
    "A =  NKron(I, I, I) @ rho0 @ NKron(I, I, I).T.conj()*0.5 + NKron(I, Z, I) @ rho0 @ NKron(I, Z, I).T.conj()*0.5\n",
    "\n",
    "rho_correction = ErrorCorrection(rho_error)\n",
    "rho_res = FixErrorZ(rho_correction)\n",
    "\n",
    "printMatrix(A)\n",
    "A.trace()"
   ]
  },
  {
   "cell_type": "code",
   "execution_count": 43,
   "id": "dde7acf7",
   "metadata": {},
   "outputs": [
    {
     "data": {
      "text/plain": [
       "(32, 32)"
      ]
     },
     "execution_count": 43,
     "metadata": {},
     "output_type": "execute_result"
    }
   ],
   "source": [
    "rho0 = np.outer(psi_L.conj(), psi_L)\n",
    "rho = NKron(rho0, P0, P1)\n",
    "rho.shape"
   ]
  },
  {
   "cell_type": "code",
   "execution_count": 252,
   "id": "9599140c",
   "metadata": {},
   "outputs": [
    {
     "data": {
      "text/plain": [
       "array([[ 0.5       +0.j        ,  0.11126047+0.48746396j],\n",
       "       [ 0.11126047+0.48746396j, -0.45048443+0.21694187j]])"
      ]
     },
     "execution_count": 252,
     "metadata": {},
     "output_type": "execute_result"
    }
   ],
   "source": [
    "np.outer(psi, psi)"
   ]
  },
  {
   "cell_type": "code",
   "execution_count": 253,
   "id": "ff06b5f8",
   "metadata": {},
   "outputs": [],
   "source": [
    "rho1 = np.trace(rho.reshape([16, 2, 16, 2]), axis1=1, axis2=3)\n",
    "rho2 = np.trace(rho1.reshape([8, 2, 8, 2]), axis1=1, axis2=3)"
   ]
  },
  {
   "cell_type": "code",
   "execution_count": 254,
   "id": "f63e8d30-34c5-4bd0-a004-4bd082098014",
   "metadata": {},
   "outputs": [
    {
     "data": {
      "text/plain": [
       "(0.9999998011325909+5.2637960620522866e-09j)"
      ]
     },
     "execution_count": 254,
     "metadata": {},
     "output_type": "execute_result"
    }
   ],
   "source": [
    "Fidelity(rho2, rho0)"
   ]
  },
  {
   "cell_type": "code",
   "execution_count": null,
   "id": "bec58a15",
   "metadata": {},
   "outputs": [],
   "source": []
  },
  {
   "cell_type": "code",
   "execution_count": 255,
   "id": "b8f9eee3",
   "metadata": {},
   "outputs": [
    {
     "data": {
      "text/plain": [
       "array([[0.+0.j, 0.+0.j],\n",
       "       [0.+0.j, 1.+0.j]])"
      ]
     },
     "execution_count": 255,
     "metadata": {},
     "output_type": "execute_result"
    }
   ],
   "source": [
    "rho3 = np.trace(rho.reshape([16, 2, 16, 2]), axis1=0, axis2=2)\n",
    "#rho3/=np.trace(rho3)\n",
    "np.round(rho3, 6)"
   ]
  },
  {
   "cell_type": "code",
   "execution_count": 256,
   "id": "c27b4b1e",
   "metadata": {},
   "outputs": [
    {
     "data": {
      "text/plain": [
       "array([[1.+0.j, 0.+0.j],\n",
       "       [0.+0.j, 0.+0.j]])"
      ]
     },
     "execution_count": 256,
     "metadata": {},
     "output_type": "execute_result"
    }
   ],
   "source": [
    "rho4 = np.trace(rho1.reshape([8, 2, 8, 2]), axis1=0, axis2=2)\n",
    "#rho4/=np.trace(rho4)\n",
    "np.round(rho4, 6)"
   ]
  },
  {
   "cell_type": "code",
   "execution_count": 257,
   "id": "98a6e288",
   "metadata": {},
   "outputs": [
    {
     "data": {
      "text/plain": [
       "array([[0.       +0.j, 0.       +0.j],\n",
       "       [0.       +0.j, 0.9999999+0.j]])"
      ]
     },
     "execution_count": 257,
     "metadata": {},
     "output_type": "execute_result"
    }
   ],
   "source": [
    "rho1_ = np.trace(rho.reshape([8, 4, 8, 4]), axis1=0, axis2=2)\n",
    "np.trace(rho1_.reshape([2, 2, 2, 2]), axis1=0, axis2=2)"
   ]
  },
  {
   "cell_type": "code",
   "execution_count": 200,
   "id": "54dc698e",
   "metadata": {},
   "outputs": [
    {
     "data": {
      "text/plain": [
       "False"
      ]
     },
     "execution_count": 200,
     "metadata": {},
     "output_type": "execute_result"
    }
   ],
   "source": [
    "np.isclose(rho4[0,0], 0)"
   ]
  },
  {
   "cell_type": "code",
   "execution_count": 203,
   "id": "90a3b149",
   "metadata": {},
   "outputs": [
    {
     "data": {
      "text/plain": [
       "(9.026337517069773e-34+0j)"
      ]
     },
     "execution_count": 203,
     "metadata": {},
     "output_type": "execute_result"
    }
   ],
   "source": [
    "rho4[0,0]"
   ]
  }
 ],
 "metadata": {
  "kernelspec": {
   "display_name": "Python 3 (ipykernel)",
   "language": "python",
   "name": "python3"
  },
  "language_info": {
   "codemirror_mode": {
    "name": "ipython",
    "version": 3
   },
   "file_extension": ".py",
   "mimetype": "text/x-python",
   "name": "python",
   "nbconvert_exporter": "python",
   "pygments_lexer": "ipython3",
   "version": "3.9.7"
  }
 },
 "nbformat": 4,
 "nbformat_minor": 5
}
