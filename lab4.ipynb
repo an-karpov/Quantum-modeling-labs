{
 "cells": [
  {
   "cell_type": "code",
   "execution_count": 188,
   "id": "da05028f",
   "metadata": {},
   "outputs": [],
   "source": [
    "import numpy as np\n",
    "import matplotlib.pyplot as plt\n",
    "import scipy as sp\n",
    "from numba import jit, int32, float64\n",
    "from tqdm import tqdm\n",
    "\n",
    "from math import cos, sin, exp\n",
    "%matplotlib inline\n",
    "np.random.seed(500)"
   ]
  },
  {
   "cell_type": "markdown",
   "id": "12054b53",
   "metadata": {},
   "source": [
    "### Случайные ошибки как квантовый процесс\n"
   ]
  },
  {
   "cell_type": "code",
   "execution_count": 189,
   "id": "a0336f73",
   "metadata": {},
   "outputs": [],
   "source": [
    "def UnitaryTransformation(delta, tetta, phi):\n",
    "    R = np.array([[np.cos(delta/2)-1j*np.cos(tetta)*np.sin(delta/2), -1j*np.sin(tetta)*np.sin(delta/2)*np.exp(-1j*phi)],\n",
    "                 [-1j*np.sin(tetta)*np.sin(delta/2)*np.exp(1j*phi), np.cos(delta/2)+1j*np.cos(tetta)*np.sin(delta/2)]], dtype=np.complex64)\n",
    "    return R"
   ]
  },
  {
   "cell_type": "code",
   "execution_count": 251,
   "id": "bfb841fc",
   "metadata": {},
   "outputs": [],
   "source": [
    "# задаём параметры\n",
    "d = 2 \n",
    "e = 0\n",
    "delta = e*np.pi/10\n",
    "tetta = np.pi/4\n",
    "phi = np.pi\n",
    "R = UnitaryTransformation(delta, tetta, phi)"
   ]
  },
  {
   "cell_type": "code",
   "execution_count": 254,
   "id": "04bc77b2",
   "metadata": {},
   "outputs": [],
   "source": [
    "# готовим чистое состояние\n",
    "pure_state = np.array([np.random.normal(0, 1, d) + 1j*np.random.normal(0, 1, d)])[0]\n",
    "pure_state /= np.linalg.norm(pure_state)"
   ]
  },
  {
   "cell_type": "code",
   "execution_count": 255,
   "id": "4e8a55fa",
   "metadata": {},
   "outputs": [
    {
     "data": {
      "text/plain": [
       "array([ 0.24608978+0.63884495j, -0.12275065-0.71850486j])"
      ]
     },
     "execution_count": 255,
     "metadata": {},
     "output_type": "execute_result"
    }
   ],
   "source": [
    "pure_state"
   ]
  },
  {
   "cell_type": "code",
   "execution_count": 256,
   "id": "6cf4e886",
   "metadata": {},
   "outputs": [],
   "source": [
    "# применяем унитарное преобразование\n",
    "pure_state_transformed = np.dot(R, pure_state)"
   ]
  },
  {
   "cell_type": "code",
   "execution_count": 257,
   "id": "7e90afac",
   "metadata": {},
   "outputs": [
    {
     "data": {
      "text/plain": [
       "1.0000000000000002"
      ]
     },
     "execution_count": 257,
     "metadata": {},
     "output_type": "execute_result"
    }
   ],
   "source": [
    "np.linalg.norm(pure_state_transformed)"
   ]
  },
  {
   "cell_type": "code",
   "execution_count": 263,
   "id": "c5a9b0e1",
   "metadata": {},
   "outputs": [],
   "source": [
    "# определим реализацию эксперимента Бернулли\n",
    "n_iter = 1000\n",
    "#@jit(float64(int32), parallel=True)\n",
    "def Experiment(n_iter, e):\n",
    "    '''\n",
    "    test Bernulli experiment for Unitary evolution with quantum noise\n",
    "    '''\n",
    "    delta_arr = e*np.pi/10\n",
    "    R_arr = UnitaryTransformation(delta_arr, tetta, phi)\n",
    "\n",
    "    zero_state = np.array([1,0])\n",
    "    p = []\n",
    "\n",
    "    for i in range(n_iter):\n",
    "        transformed_state = np.dot(R_arr[:,:,i], pure_state)\n",
    "        p_i = np.abs(np.vdot(zero_state, transformed_state))**2\n",
    "        p.append(p_i)\n",
    "\n",
    "    Bernulli_result = np.random.binomial(1, p)\n",
    "    k = Bernulli_result[Bernulli_result==1].shape[0]\n",
    "    prob_1 = k/n_iter\n",
    "    \n",
    "    return prob_1"
   ]
  },
  {
   "cell_type": "code",
   "execution_count": 278,
   "id": "fe0bb2a4",
   "metadata": {},
   "outputs": [
    {
     "name": "stderr",
     "output_type": "stream",
     "text": [
      "100%|███████████████████████████████████████████████████████████████████████████| 10000/10000 [01:17<00:00, 129.15it/s]"
     ]
    },
    {
     "name": "stdout",
     "output_type": "stream",
     "text": [
      "Wall time: 1min 17s\n"
     ]
    },
    {
     "name": "stderr",
     "output_type": "stream",
     "text": [
      "\n"
     ]
    }
   ],
   "source": [
    "%%time\n",
    "N = 10000\n",
    "e = np.random.uniform(low=-0.2, high=0.1, size=n_iter)\n",
    "prob_1_arr=[]\n",
    "\n",
    "for i in tqdm(range(N)):\n",
    "    prob_1 = Experiment(n_iter, e)\n",
    "    prob_1_arr.append(prob_1)"
   ]
  },
  {
   "cell_type": "code",
   "execution_count": 279,
   "id": "1b01d954",
   "metadata": {},
   "outputs": [
    {
     "name": "stderr",
     "output_type": "stream",
     "text": [
      "100%|███████████████████████████████████████████████████████████████████████████| 10000/10000 [01:13<00:00, 136.34it/s]"
     ]
    },
    {
     "name": "stdout",
     "output_type": "stream",
     "text": [
      "Wall time: 1min 13s\n"
     ]
    },
    {
     "name": "stderr",
     "output_type": "stream",
     "text": [
      "\n"
     ]
    }
   ],
   "source": [
    "%%time\n",
    "N = 10000\n",
    "e = np.zeros(n_iter)\n",
    "prob_2_arr=[]\n",
    "\n",
    "for i in tqdm(range(N)):\n",
    "    prob_2 = Experiment(n_iter, e)\n",
    "    prob_2_arr.append(prob_2)"
   ]
  },
  {
   "cell_type": "code",
   "execution_count": 280,
   "id": "c449d69f",
   "metadata": {},
   "outputs": [
    {
     "data": {
      "image/png": "[encoded data removed]",
      "text/plain": [
       "<Figure size 432x288 with 1 Axes>"
      ]
     },
     "metadata": {
      "needs_background": "light"
     },
     "output_type": "display_data"
    }
   ],
   "source": [
    "plt.hist(prob_1_arr, bins=20)\n",
    "plt.title('e - равномерно распределено')\n",
    "plt.show()"
   ]
  },
  {
   "cell_type": "code",
   "execution_count": 281,
   "id": "aca362a5",
   "metadata": {},
   "outputs": [
    {
     "data": {
      "image/png": "[encoded data removed]",
      "text/plain": [
       "<Figure size 432x288 with 1 Axes>"
      ]
     },
     "metadata": {
      "needs_background": "light"
     },
     "output_type": "display_data"
    }
   ],
   "source": [
    "plt.hist(prob_2_arr, bins=20)\n",
    "plt.title('e=0')\n",
    "plt.show()"
   ]
  },
  {
   "cell_type": "code",
   "execution_count": 271,
   "id": "6b4775e4",
   "metadata": {},
   "outputs": [],
   "source": [
    "def Craus(rho_in, E):\n",
    "    rho_out = np.zeros_like(rho_in)\n",
    "    \n",
    "    for j in range(len(E)):\n",
    "        rho_out += E[j] @ rho_in @ E[j].T.conj()\n",
    "            \n",
    "    return rho_out\n",
    "\n",
    "identity = np.array([[1,0],\n",
    "                    [0,1]])"
   ]
  },
  {
   "cell_type": "code",
   "execution_count": 272,
   "id": "80a8cfd8",
   "metadata": {},
   "outputs": [],
   "source": [
    "e = np.random.uniform(low=-0.2, high=0.1, size=1)\n",
    "delta = e*np.pi/10\n",
    "R = UnitaryTransformation(delta, tetta, phi)[:,:,0]"
   ]
  },
  {
   "cell_type": "code",
   "execution_count": 273,
   "id": "bd8f1ee1",
   "metadata": {},
   "outputs": [
    {
     "data": {
      "text/plain": [
       "array([[ 9.9989128e-01-0.01042703j, -1.2769424e-18+0.01042703j],\n",
       "       [ 1.2769424e-18+0.01042703j,  9.9989128e-01+0.01042703j]],\n",
       "      dtype=complex64)"
      ]
     },
     "execution_count": 273,
     "metadata": {},
     "output_type": "execute_result"
    }
   ],
   "source": [
    "R"
   ]
  },
  {
   "cell_type": "code",
   "execution_count": 274,
   "id": "d28edc7f",
   "metadata": {},
   "outputs": [
    {
     "data": {
      "text/plain": [
       "array([[ 9.9989122e-01+0.0000000e+00j, -1.0872287e-04-1.0425892e-02j,\n",
       "        -1.0872287e-04-1.0425892e-02j,  9.9967378e-01-2.0851783e-02j],\n",
       "       [-1.0872287e-04+1.0425892e-02j,  1.0872287e-04+0.0000000e+00j,\n",
       "         1.0872287e-04-2.6629422e-20j,  1.0872287e-04+1.0425892e-02j],\n",
       "       [-1.0872287e-04+1.0425892e-02j,  1.0872287e-04+2.6629422e-20j,\n",
       "         1.0872287e-04+0.0000000e+00j,  1.0872287e-04+1.0425892e-02j],\n",
       "       [ 9.9967378e-01+2.0851783e-02j,  1.0872287e-04-1.0425892e-02j,\n",
       "         1.0872287e-04-1.0425892e-02j,  9.9989122e-01+0.0000000e+00j]],\n",
       "      dtype=complex64)"
      ]
     },
     "execution_count": 274,
     "metadata": {},
     "output_type": "execute_result"
    }
   ],
   "source": [
    "# вычисляем матрицу xi\n",
    "Psi = 1/np.sqrt(2)*np.array([1.,0.,0.,1.], dtype=np.complex64)\n",
    "bell_rho = np.outer(Psi, Psi.conj())\n",
    "\n",
    "E_extend = [np.kron(identity, R)]\n",
    "\n",
    "xi_2 = 2*Craus(bell_rho, E_extend)\n",
    "xi_2"
   ]
  },
  {
   "cell_type": "code",
   "execution_count": 275,
   "id": "3d4270aa",
   "metadata": {},
   "outputs": [],
   "source": [
    "# вычисляем операторы Крауса\n",
    "W, V = np.linalg.eig(xi_2) \n",
    "e_matrix = V@np.diag(np.sqrt(W))\n",
    "s = e_matrix.shape[0]\n",
    "\n",
    "E_craus = []\n",
    "for i in range(s):\n",
    "    E_craus.append(e_matrix[:,i].reshape(s//2, s//2))"
   ]
  },
  {
   "cell_type": "code",
   "execution_count": 276,
   "id": "812850fc",
   "metadata": {},
   "outputs": [
    {
     "data": {
      "text/plain": [
       "array([[ 0.47084796-2.44546881e-29j, -0.4870559 +1.09209415e-01j],\n",
       "       [-0.4870559 -1.09209415e-01j,  0.52915201-3.46944695e-18j]])"
      ]
     },
     "execution_count": 276,
     "metadata": {},
     "output_type": "execute_result"
    }
   ],
   "source": [
    "rho_in = np.outer(pure_state, pure_state.conj())\n",
    "rho_out = Craus(rho_in, E_craus)\n",
    "rho_out"
   ]
  },
  {
   "cell_type": "code",
   "execution_count": 277,
   "id": "07e042c0",
   "metadata": {},
   "outputs": [
    {
     "name": "stdout",
     "output_type": "stream",
     "text": [
      "0.4708479621265103\n"
     ]
    }
   ],
   "source": [
    "zero_state = np.array([1,0])\n",
    "p_e = np.dot(zero_state, np.dot(rho_out, zero_state))\n",
    "print(p_e.real)"
   ]
  },
  {
   "cell_type": "markdown",
   "id": "c8983391",
   "metadata": {},
   "source": [
    "Как видно, вероятность попадает в обрасть нормального распределения (сформированного на первой гистограмме) "
   ]
  },
  {
   "cell_type": "markdown",
   "id": "2d39fca5",
   "metadata": {},
   "source": [
    "### Зашумлённые квантовые схемы"
   ]
  },
  {
   "cell_type": "code",
   "execution_count": 166,
   "id": "11a4a960",
   "metadata": {},
   "outputs": [],
   "source": [
    "I = np.identity(2, dtype=np.complex128)\n",
    "H = 1/np.sqrt(2)*np.array([[1, 1],\n",
    "             [1, -1]])\n",
    "\n",
    "def R_m(m):\n",
    "    return np.array([[1, 0],\n",
    "                     [0, np.exp(1j*2*np.pi/2**m)]],dtype=np.complex64)"
   ]
  },
  {
   "cell_type": "code",
   "execution_count": 143,
   "id": "6c250ffa",
   "metadata": {},
   "outputs": [],
   "source": [
    "n = 8\n",
    "delta = np.pi/10\n",
    "tetta = np.pi/4\n",
    "phi = np.pi"
   ]
  },
  {
   "cell_type": "code",
   "execution_count": 144,
   "id": "20e78143",
   "metadata": {},
   "outputs": [],
   "source": [
    "# другой способ на основе построения матрицы QFT\n",
    "\n",
    "def U(e):\n",
    "    ksi = e*np.random.uniform(low=-0.1, high=0.1)\n",
    "    U_noise = UnitaryTransformation(ksi*delta, tetta, phi)\n",
    "    return U_noise\n",
    "\n",
    "def qubit_matrix(U, pos=1, n_qubits=2):\n",
    "    '''\n",
    "    return matrin of single qubit @U when count of qubits = @n_qubits\n",
    "    '''\n",
    "    U_res = 1\n",
    "    for i in range(n_qubits):\n",
    "        if i == pos:\n",
    "            U_res = np.kron(U_res, U)\n",
    "        else:\n",
    "            U_res = np.kron(U_res, I)\n",
    "    return U_res\n",
    "\n",
    "def control_U(U, n_qubits, c_pos, t_pos):\n",
    "    c_U = np.identity(2**n_qubits, dtype=np.complex128)\n",
    "    pos0 = 2**(n_qubits - c_pos - 1)\n",
    "    pos1 = 2**(n_qubits - c_pos - 1) + 2**(n_qubits - t_pos-1)\n",
    "    c_U[pos0][pos0] = U[0,0]\n",
    "    c_U[pos0][pos1] = U[0,1]\n",
    "    c_U[pos1][pos0] = U[1,0]\n",
    "    c_U[pos1][pos1] = U[1,1]\n",
    "    \n",
    "    return c_U\n",
    "\n",
    "def QFT(n_qubits):\n",
    "    QFT_matrix = np.identity(2**n_qubits, dtype=np.complex128)\n",
    "    \n",
    "    for layer in range(n_qubits):\n",
    "        QFT_matrix = QFT_matrix @ qubit_matrix(H, pos=layer, n_qubits=n_qubits)\n",
    "        for m in range(1, n_qubits - layer):\n",
    "            rotation = control_U(R_m(m+1), n_qubits=n_qubits, c_pos=m+layer, t_pos=layer)\n",
    "            QFT_matrix = np.dot(QFT_matrix, rotation)\n",
    "    return QFT_matrix\n",
    "\n",
    "def noisy_QFT(n_qubits, e):\n",
    "    QFT_matrix = np.identity(2**n_qubits, dtype=np.complex128)\n",
    "    \n",
    "    for layer in range(n_qubits):\n",
    "        H_noisy = np.dot(H, U(e))\n",
    "        \n",
    "        QFT_matrix = QFT_matrix @ qubit_matrix(H_noisy, pos=layer, n_qubits=n_qubits)\n",
    "        for m in range(1, n_qubits - layer):\n",
    "            rotation = control_U(R_m(m+1)@U(e), n_qubits=n_qubits, c_pos=m+layer, t_pos=layer)\n",
    "            QFT_matrix = np.dot(QFT_matrix, rotation)\n",
    "    return QFT_matrix"
   ]
  },
  {
   "cell_type": "code",
   "execution_count": 145,
   "id": "e7bdf237",
   "metadata": {},
   "outputs": [],
   "source": [
    "# готовим чистое состояние\n",
    "psi = np.array([np.random.normal(0, 1, 2**n) + 1j*np.random.normal(0, 1, 2**n)])[0]\n",
    "psi /= np.linalg.norm(psi)"
   ]
  },
  {
   "cell_type": "code",
   "execution_count": 146,
   "id": "bfdd4687",
   "metadata": {},
   "outputs": [],
   "source": [
    "# незашумлённое QFT\n",
    "phi0 = np.dot(QFT(n), psi)"
   ]
  },
  {
   "cell_type": "code",
   "execution_count": 147,
   "id": "b7343d1a",
   "metadata": {},
   "outputs": [
    {
     "data": {
      "text/plain": [
       "1.000000007266417"
      ]
     },
     "execution_count": 147,
     "metadata": {},
     "output_type": "execute_result"
    }
   ],
   "source": [
    "phi_i = np.dot(noizy_QFT(n, e_i), psi)\n",
    "np.linalg.norm(phi_i)"
   ]
  },
  {
   "cell_type": "code",
   "execution_count": 148,
   "id": "c03a90f8",
   "metadata": {},
   "outputs": [
    {
     "name": "stdout",
     "output_type": "stream",
     "text": [
      "Wall time: 0 ns\n",
      "Cicle for 0\n"
     ]
    },
    {
     "name": "stderr",
     "output_type": "stream",
     "text": [
      "100%|████████████████████████████████████████████████████████████████████████████████| 100/100 [00:10<00:00,  9.52it/s]\n"
     ]
    },
    {
     "name": "stdout",
     "output_type": "stream",
     "text": [
      "Cicle for 0.0001\n"
     ]
    },
    {
     "name": "stderr",
     "output_type": "stream",
     "text": [
      "100%|████████████████████████████████████████████████████████████████████████████████| 100/100 [00:08<00:00, 11.79it/s]\n"
     ]
    },
    {
     "name": "stdout",
     "output_type": "stream",
     "text": [
      "Cicle for 0.0005\n"
     ]
    },
    {
     "name": "stderr",
     "output_type": "stream",
     "text": [
      "100%|████████████████████████████████████████████████████████████████████████████████| 100/100 [00:08<00:00, 11.76it/s]\n"
     ]
    },
    {
     "name": "stdout",
     "output_type": "stream",
     "text": [
      "Cicle for 0.001\n"
     ]
    },
    {
     "name": "stderr",
     "output_type": "stream",
     "text": [
      "100%|████████████████████████████████████████████████████████████████████████████████| 100/100 [00:08<00:00, 11.66it/s]\n"
     ]
    },
    {
     "name": "stdout",
     "output_type": "stream",
     "text": [
      "Cicle for 0.005\n"
     ]
    },
    {
     "name": "stderr",
     "output_type": "stream",
     "text": [
      "100%|████████████████████████████████████████████████████████████████████████████████| 100/100 [00:08<00:00, 11.72it/s]\n"
     ]
    },
    {
     "name": "stdout",
     "output_type": "stream",
     "text": [
      "Cicle for 0.01\n"
     ]
    },
    {
     "name": "stderr",
     "output_type": "stream",
     "text": [
      "100%|████████████████████████████████████████████████████████████████████████████████| 100/100 [00:08<00:00, 11.64it/s]\n"
     ]
    },
    {
     "name": "stdout",
     "output_type": "stream",
     "text": [
      "Cicle for 0.05\n"
     ]
    },
    {
     "name": "stderr",
     "output_type": "stream",
     "text": [
      "100%|████████████████████████████████████████████████████████████████████████████████| 100/100 [00:08<00:00, 11.72it/s]\n"
     ]
    },
    {
     "name": "stdout",
     "output_type": "stream",
     "text": [
      "Cicle for 0.1\n"
     ]
    },
    {
     "name": "stderr",
     "output_type": "stream",
     "text": [
      "100%|████████████████████████████████████████████████████████████████████████████████| 100/100 [00:08<00:00, 11.75it/s]\n"
     ]
    }
   ],
   "source": [
    "%time\n",
    "n_iter = 100\n",
    "e_arr = [0, 0.0001, 0.0005, 0.001, 0.005, 0.01, 0.05, 0.1]\n",
    "F = []\n",
    "\n",
    "\n",
    "for e_i in e_arr:\n",
    "    print(f'Cicle for {e_i}')\n",
    "    F_aver = 0\n",
    "    for i in tqdm(range(n_iter)):\n",
    "        phi_i = np.dot(noisy_QFT(n, e_i), psi)\n",
    "        F_aver += np.abs(np.vdot(phi0, phi_i))**2\n",
    "    F_aver /= n_iter\n",
    "    F.append(F_aver)"
   ]
  },
  {
   "cell_type": "code",
   "execution_count": 165,
   "id": "016d7c7b",
   "metadata": {},
   "outputs": [
    {
     "data": {
      "text/plain": [
       "Text(0, 0.5, 'Средняя точность F')"
      ]
     },
     "execution_count": 165,
     "metadata": {},
     "output_type": "execute_result"
    },
    {
     "data": {
      "image/png": "[encoded data removed]",
      "text/plain": [
       "<Figure size 576x432 with 1 Axes>"
      ]
     },
     "metadata": {
      "needs_background": "light"
     },
     "output_type": "display_data"
    }
   ],
   "source": [
    "plt.figure(figsize=(8,6))\n",
    "plt.plot(e_arr, F, '-x')\n",
    "plt.xlabel(\"Уровень ошибки e\")\n",
    "plt.ylabel(\"Средняя точность F\")\n",
    "#plt.ylim(0,1)"
   ]
  },
  {
   "cell_type": "markdown",
   "id": "c3a8cac2",
   "metadata": {},
   "source": [
    "Поскольку в моём варианте $\\delta = e\\frac{\\pi}{10}$ (типичный порядок 1e-5 -- 1e-6), то матрица шума оказывается близкой к единице и влияние шума оказывается малым. Если значительно увеличить, порядок e, то и падение Фиделити станостится заметным"
   ]
  },
  {
   "cell_type": "code",
   "execution_count": null,
   "id": "6ee441bc",
   "metadata": {},
   "outputs": [],
   "source": []
  },
  {
   "cell_type": "code",
   "execution_count": null,
   "id": "6fcb7b73",
   "metadata": {},
   "outputs": [],
   "source": []
  },
  {
   "cell_type": "code",
   "execution_count": null,
   "id": "a7845a46",
   "metadata": {},
   "outputs": [],
   "source": []
  },
  {
   "cell_type": "code",
   "execution_count": null,
   "id": "7af250a1",
   "metadata": {},
   "outputs": [],
   "source": []
  },
  {
   "cell_type": "code",
   "execution_count": null,
   "id": "b9ecda37",
   "metadata": {},
   "outputs": [],
   "source": []
  },
  {
   "cell_type": "code",
   "execution_count": null,
   "id": "95f5ba96",
   "metadata": {},
   "outputs": [],
   "source": []
  },
  {
   "cell_type": "code",
   "execution_count": null,
   "id": "d00ecd8e",
   "metadata": {},
   "outputs": [],
   "source": []
  },
  {
   "cell_type": "markdown",
   "id": "af379786",
   "metadata": {},
   "source": [
    "### Другой метод, но который не сработал"
   ]
  },
  {
   "cell_type": "markdown",
   "id": "af6d1029",
   "metadata": {},
   "source": [
    "Идея реализации QFT: \n",
    "\n",
    "1) Раскладываем входное состояние psi по базису |j>.\n",
    "\n",
    "2) Для каждого базисного состояния вычисляем QFT, представляя j в бинарном виде j1 j2 j3...jn \n",
    "\n",
    "3) Сосбираем всё в единую сумму с соответствующими компонентами |psi> "
   ]
  },
  {
   "cell_type": "code",
   "execution_count": 471,
   "id": "c8bf4958",
   "metadata": {},
   "outputs": [],
   "source": [
    "def basis_state_array(state='000'):\n",
    "    '''\n",
    "    Convers qubit-ket notation state to numpy array of 2D vector\n",
    "    @state - string, consisted of '0' or '1' like '001'\n",
    "    '''\n",
    "    zero_state = np.array([1,0])\n",
    "    one_state = np.array([0,1])\n",
    "    basis_1D = [zero_state, one_state]\n",
    "    \n",
    "    for i in range(len(state)):\n",
    "        if (i==0):\n",
    "            res = [basis_1D[int(state[i])]]\n",
    "            continue\n",
    "        res.append(basis_1D[int(state[i])])\n",
    "        \n",
    "    return res\n",
    "                            \n",
    "def QFT_basis(str_psi):\n",
    "    '''@str_psi like 000100'''\n",
    "    psi_logic = basis_state_array(str_psi)\n",
    "    n = len(psi_logic)\n",
    "    \n",
    "    for j in range(n):\n",
    "        psi_logic[j] = np.dot(H, psi_logic[j])\n",
    "        \n",
    "        for i in range(1, n-j):\n",
    "            R = int(str_psi[i])*R_m(i+1) + (1-int(str_psi[i]))*I\n",
    "            psi_logic[j] = np.dot(R, psi_logic[j])\n",
    "    \n",
    "    qft_psi = psi_logic[0]\n",
    "    for i in range(1, n):\n",
    "        qft_psi = np.kron(qft_psi, psi_logic[i])\n",
    "            \n",
    "    return qft_psi\n",
    "\n",
    "def QFT_basis_with_noise(str_psi, e=0):\n",
    "    '''@str_psi like 000100'''\n",
    "    psi_logic = basis_state_array(str_psi)\n",
    "    n = len(psi_logic)\n",
    "    \n",
    "    for j in range(n):\n",
    "        ksi = e*np.random.uniform(low=-0.1, high=0.1)\n",
    "        U_noise = UnitaryTransformation(ksi*delta, tetta, phi)\n",
    "        \n",
    "        psi_logic[j] = np.dot(np.dot(H, U_noise), psi_logic[j])\n",
    "        \n",
    "        for i in range(1, n-j):\n",
    "            ksi = e*np.random.uniform(low=-0.1, high=0.1)\n",
    "            #U_noise = UnitaryTransformation(ksi*delta, tetta, phi)\n",
    "            U_noise = I\n",
    "            \n",
    "            if int(str_psi[i]):\n",
    "                R = np.dot(R_m(i+1), U_noise)\n",
    "            else:\n",
    "                R = I.copy()\n",
    "            #R = int(str_psi[i])*np.dot(R_m(i+1), U_noise) + (1-int(str_psi[i]))*I\n",
    "            psi_logic[j] = np.dot(R, psi_logic[j])\n",
    "    \n",
    "    qft_psi = psi_logic[0]\n",
    "    for i in range(1, n):\n",
    "        qft_psi = np.kron(qft_psi, psi_logic[i])\n",
    "            \n",
    "    return qft_psi"
   ]
  },
  {
   "cell_type": "code",
   "execution_count": 457,
   "id": "d9f0a432",
   "metadata": {},
   "outputs": [
    {
     "data": {
      "text/plain": [
       "['000', '001', '010']"
      ]
     },
     "execution_count": 457,
     "metadata": {},
     "output_type": "execute_result"
    }
   ],
   "source": [
    "n = 8\n",
    "delta = np.pi/10\n",
    "tetta = np.pi/4\n",
    "phi = np.pi\n",
    "\n",
    "# генерируем базис в строковом формате\n",
    "str_basis = [bin(i)[3:] for i in range(2**n, 2**(n+1))]\n",
    "str_basis[:3]"
   ]
  },
  {
   "cell_type": "code",
   "execution_count": 458,
   "id": "25c6a865",
   "metadata": {},
   "outputs": [],
   "source": [
    "QFT_basis_vectors = [QFT_basis(s) for s in str_basis]"
   ]
  },
  {
   "cell_type": "code",
   "execution_count": 459,
   "id": "c2b75c2a",
   "metadata": {},
   "outputs": [
    {
     "ename": "IndexError",
     "evalue": "index 10 is out of bounds for axis 0 with size 8",
     "output_type": "error",
     "traceback": [
      "\u001b[1;31m---------------------------------------------------------------------------\u001b[0m",
      "\u001b[1;31mIndexError\u001b[0m                                Traceback (most recent call last)",
      "\u001b[1;32m<timed exec>\u001b[0m in \u001b[0;36m<module>\u001b[1;34m\u001b[0m\n",
      "\u001b[1;31mIndexError\u001b[0m: index 10 is out of bounds for axis 0 with size 8"
     ]
    }
   ],
   "source": [
    "%%time\n",
    "x = QFT(n, psi, with_noise=True, e=0.1)\n",
    "x[10]"
   ]
  },
  {
   "cell_type": "code",
   "execution_count": 444,
   "id": "ad4aa693",
   "metadata": {},
   "outputs": [
    {
     "data": {
      "text/plain": [
       "1.093199787188026"
      ]
     },
     "execution_count": 444,
     "metadata": {},
     "output_type": "execute_result"
    }
   ],
   "source": [
    "x = QFT(n, psi, with_noise=False)\n",
    "np.linalg.norm(x)"
   ]
  },
  {
   "cell_type": "code",
   "execution_count": 445,
   "id": "152cd3d9",
   "metadata": {},
   "outputs": [],
   "source": [
    "# готовим чистое состояние\n",
    "psi = np.array([np.random.normal(0, 1, 2**n) + 1j*np.random.normal(0, 1, 2**n)])[0]\n",
    "psi /= np.linalg.norm(psi)"
   ]
  },
  {
   "cell_type": "code",
   "execution_count": 446,
   "id": "ab111c5e",
   "metadata": {},
   "outputs": [],
   "source": [
    "# QFT\n",
    "QFT_psi = np.zeros_like(psi)\n",
    "for i in range(psi.shape[0]):\n",
    "    QFT_psi += psi[i]*QFT_basis_vectors[i]"
   ]
  },
  {
   "cell_type": "code",
   "execution_count": 447,
   "id": "f6dfda67",
   "metadata": {},
   "outputs": [
    {
     "data": {
      "text/plain": [
       "0.8507582988901132"
      ]
     },
     "execution_count": 447,
     "metadata": {},
     "output_type": "execute_result"
    }
   ],
   "source": [
    "np.linalg.norm(QFT_psi)"
   ]
  },
  {
   "cell_type": "markdown",
   "id": "c260fc66",
   "metadata": {},
   "source": [
    "Соберём теперь всё в одну функцию"
   ]
  },
  {
   "cell_type": "code",
   "execution_count": 460,
   "id": "b9a7d1d7",
   "metadata": {},
   "outputs": [],
   "source": [
    "def QFT(n, psi, with_noise=False, e=0):\n",
    "    assert psi.shape[0] == 2**n, \"Error: dimensions doesn't match\"\n",
    "    \n",
    "    str_basis = [bin(i)[3:] for i in range(2**n, 2**(n+1))]\n",
    "    \n",
    "    if with_noise:\n",
    "        QFT_basis_vectors = [QFT_basis_with_noise(s, e) for s in str_basis]\n",
    "    else:\n",
    "        QFT_basis_vectors = [QFT_basis(s) for s in str_basis]\n",
    "    \n",
    "    QFT_psi = np.zeros_like(psi)\n",
    "    for i in range(psi.shape[0]):\n",
    "        QFT_psi += psi[i]*QFT_basis_vectors[i]\n",
    "    \n",
    "    return QFT_psi"
   ]
  },
  {
   "cell_type": "code",
   "execution_count": 461,
   "id": "4dccc251",
   "metadata": {},
   "outputs": [],
   "source": [
    "# незашумлённое QFT\n",
    "phi0 = QFT(n, psi)"
   ]
  },
  {
   "cell_type": "code",
   "execution_count": 462,
   "id": "0aa2223f",
   "metadata": {},
   "outputs": [
    {
     "ename": "ValueError",
     "evalue": "shapes (2,2,1) and (2,) not aligned: 1 (dim 2) != 2 (dim 0)",
     "output_type": "error",
     "traceback": [
      "\u001b[1;31m---------------------------------------------------------------------------\u001b[0m",
      "\u001b[1;31mValueError\u001b[0m                                Traceback (most recent call last)",
      "\u001b[1;32m<timed exec>\u001b[0m in \u001b[0;36m<module>\u001b[1;34m\u001b[0m\n",
      "\u001b[1;32m<timed exec>\u001b[0m in \u001b[0;36m<listcomp>\u001b[1;34m(.0)\u001b[0m\n",
      "\u001b[1;32m~\\AppData\\Local\\Temp/ipykernel_17772/3909639750.py\u001b[0m in \u001b[0;36mQFT_basis_with_noise\u001b[1;34m(str_psi, e)\u001b[0m\n\u001b[0;32m     43\u001b[0m         \u001b[0mU_noise\u001b[0m \u001b[1;33m=\u001b[0m \u001b[0mUnitaryTransformation\u001b[0m\u001b[1;33m(\u001b[0m\u001b[0mksi\u001b[0m\u001b[1;33m*\u001b[0m\u001b[0mdelta\u001b[0m\u001b[1;33m,\u001b[0m \u001b[0mtetta\u001b[0m\u001b[1;33m,\u001b[0m \u001b[0mphi\u001b[0m\u001b[1;33m)\u001b[0m\u001b[1;33m\u001b[0m\u001b[1;33m\u001b[0m\u001b[0m\n\u001b[0;32m     44\u001b[0m \u001b[1;33m\u001b[0m\u001b[0m\n\u001b[1;32m---> 45\u001b[1;33m         \u001b[0mpsi_logic\u001b[0m\u001b[1;33m[\u001b[0m\u001b[0mj\u001b[0m\u001b[1;33m]\u001b[0m \u001b[1;33m=\u001b[0m \u001b[0mnp\u001b[0m\u001b[1;33m.\u001b[0m\u001b[0mdot\u001b[0m\u001b[1;33m(\u001b[0m\u001b[0mnp\u001b[0m\u001b[1;33m.\u001b[0m\u001b[0mdot\u001b[0m\u001b[1;33m(\u001b[0m\u001b[0mH\u001b[0m\u001b[1;33m,\u001b[0m \u001b[0mU_noise\u001b[0m\u001b[1;33m)\u001b[0m\u001b[1;33m,\u001b[0m \u001b[0mpsi_logic\u001b[0m\u001b[1;33m[\u001b[0m\u001b[0mj\u001b[0m\u001b[1;33m]\u001b[0m\u001b[1;33m)\u001b[0m\u001b[1;33m\u001b[0m\u001b[1;33m\u001b[0m\u001b[0m\n\u001b[0m\u001b[0;32m     46\u001b[0m \u001b[1;33m\u001b[0m\u001b[0m\n\u001b[0;32m     47\u001b[0m         \u001b[1;32mfor\u001b[0m \u001b[0mi\u001b[0m \u001b[1;32min\u001b[0m \u001b[0mrange\u001b[0m\u001b[1;33m(\u001b[0m\u001b[1;36m1\u001b[0m\u001b[1;33m,\u001b[0m \u001b[0mn\u001b[0m\u001b[1;33m-\u001b[0m\u001b[0mj\u001b[0m\u001b[1;33m)\u001b[0m\u001b[1;33m:\u001b[0m\u001b[1;33m\u001b[0m\u001b[1;33m\u001b[0m\u001b[0m\n",
      "\u001b[1;32m<__array_function__ internals>\u001b[0m in \u001b[0;36mdot\u001b[1;34m(*args, **kwargs)\u001b[0m\n",
      "\u001b[1;31mValueError\u001b[0m: shapes (2,2,1) and (2,) not aligned: 1 (dim 2) != 2 (dim 0)"
     ]
    }
   ],
   "source": [
    "%%time\n",
    "str_basis = [bin(i)[3:] for i in range(2**n, 2**(n+1))]\n",
    "x =  [QFT_basis_with_noise(s, e) for s in str_basis]"
   ]
  },
  {
   "cell_type": "code",
   "execution_count": 463,
   "id": "2e434ffa",
   "metadata": {},
   "outputs": [
    {
     "name": "stdout",
     "output_type": "stream",
     "text": [
      "Wall time: 0 ns\n",
      "Cicle for 0\n"
     ]
    },
    {
     "name": "stderr",
     "output_type": "stream",
     "text": [
      "100%|█████████████████████████████████████████████████████████████████████████████████| 10/10 [00:00<00:00, 445.15it/s]\n"
     ]
    },
    {
     "name": "stdout",
     "output_type": "stream",
     "text": [
      "Cicle for 0.0001\n"
     ]
    },
    {
     "name": "stderr",
     "output_type": "stream",
     "text": [
      "100%|█████████████████████████████████████████████████████████████████████████████████| 10/10 [00:00<00:00, 536.46it/s]\n"
     ]
    },
    {
     "name": "stdout",
     "output_type": "stream",
     "text": [
      "Cicle for 0.0005\n"
     ]
    },
    {
     "name": "stderr",
     "output_type": "stream",
     "text": [
      "100%|█████████████████████████████████████████████████████████████████████████████████| 10/10 [00:00<00:00, 261.13it/s]\n"
     ]
    },
    {
     "name": "stdout",
     "output_type": "stream",
     "text": [
      "Cicle for 0.001\n"
     ]
    },
    {
     "name": "stderr",
     "output_type": "stream",
     "text": [
      "100%|█████████████████████████████████████████████████████████████████████████████████| 10/10 [00:00<00:00, 577.94it/s]\n"
     ]
    },
    {
     "name": "stdout",
     "output_type": "stream",
     "text": [
      "Cicle for 0.005\n"
     ]
    },
    {
     "name": "stderr",
     "output_type": "stream",
     "text": [
      "100%|█████████████████████████████████████████████████████████████████████████████████| 10/10 [00:00<00:00, 397.29it/s]\n"
     ]
    },
    {
     "name": "stdout",
     "output_type": "stream",
     "text": [
      "Cicle for 0.01\n"
     ]
    },
    {
     "name": "stderr",
     "output_type": "stream",
     "text": [
      "100%|█████████████████████████████████████████████████████████████████████████████████| 10/10 [00:00<00:00, 393.52it/s]\n"
     ]
    },
    {
     "name": "stdout",
     "output_type": "stream",
     "text": [
      "Cicle for 0.05\n"
     ]
    },
    {
     "name": "stderr",
     "output_type": "stream",
     "text": [
      "100%|█████████████████████████████████████████████████████████████████████████████████| 10/10 [00:00<00:00, 416.62it/s]\n"
     ]
    },
    {
     "name": "stdout",
     "output_type": "stream",
     "text": [
      "Cicle for 0.1\n"
     ]
    },
    {
     "name": "stderr",
     "output_type": "stream",
     "text": [
      "100%|█████████████████████████████████████████████████████████████████████████████████| 10/10 [00:00<00:00, 300.35it/s]\n"
     ]
    }
   ],
   "source": [
    "%time\n",
    "n_iter = 10\n",
    "e_arr = [0, 0.0001, 0.0005, 0.001, 0.005, 0.01, 0.05, 0.1]\n",
    "F = []\n",
    "\n",
    "\n",
    "for e_i in e_arr:\n",
    "    print(f'Cicle for {e_i}')\n",
    "    F_aver = 0\n",
    "    for i in tqdm(range(n_iter)):\n",
    "        phi_i = QFT(n, psi, with_noise=True, e=e_i)\n",
    "        F_aver += np.abs(np.vdot(phi0, phi_i))**2\n",
    "    F_aver /= n_iter\n",
    "    F.append(F_aver)"
   ]
  },
  {
   "cell_type": "code",
   "execution_count": 464,
   "id": "d4e44851",
   "metadata": {},
   "outputs": [
    {
     "data": {
      "text/plain": [
       "(0.0, 1.0)"
      ]
     },
     "execution_count": 464,
     "metadata": {},
     "output_type": "execute_result"
    },
    {
     "data": {
      "image/png": "[encoded data removed]",
      "text/plain": [
       "<Figure size 432x288 with 1 Axes>"
      ]
     },
     "metadata": {
      "needs_background": "light"
     },
     "output_type": "display_data"
    }
   ],
   "source": [
    "plt.plot(e_arr, F)\n",
    "plt.xlabel(\"Уровень ошибки e\")\n",
    "plt.ylabel(\"Средняя точность F\")\n",
    "plt.ylim(0,1)"
   ]
  },
  {
   "cell_type": "code",
   "execution_count": 453,
   "id": "689950a0",
   "metadata": {},
   "outputs": [
    {
     "data": {
      "text/plain": [
       "[0.5238715054060037,\n",
       " 0.5238716412682316,\n",
       " 0.523872562746529,\n",
       " 0.5238731862740098,\n",
       " 0.5238675827430654,\n",
       " 0.523878187400147,\n",
       " 0.523710883642415,\n",
       " 0.5235486951255207]"
      ]
     },
     "execution_count": 453,
     "metadata": {},
     "output_type": "execute_result"
    }
   ],
   "source": [
    "F"
   ]
  },
  {
   "cell_type": "code",
   "execution_count": 272,
   "id": "cec1d937",
   "metadata": {},
   "outputs": [],
   "source": [
    "phi_i = QFT(n, psi, with_noise=True, e=e_i)"
   ]
  },
  {
   "cell_type": "code",
   "execution_count": null,
   "id": "b232bbcf",
   "metadata": {},
   "outputs": [],
   "source": []
  }
 ],
 "metadata": {
  "kernelspec": {
   "display_name": "Python 3 (ipykernel)",
   "language": "python",
   "name": "python3"
  },
  "language_info": {
   "codemirror_mode": {
    "name": "ipython",
    "version": 3
   },
   "file_extension": ".py",
   "mimetype": "text/x-python",
   "name": "python",
   "nbconvert_exporter": "python",
   "pygments_lexer": "ipython3",
   "version": "3.10.1"
  }
 },
 "nbformat": 4,
 "nbformat_minor": 5
}
