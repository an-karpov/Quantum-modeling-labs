{
 "cells": [
  {
   "cell_type": "markdown",
   "id": "0ed36255",
   "metadata": {},
   "source": [
    "Карпов Андрей (вариант 2)"
   ]
  },
  {
   "cell_type": "code",
   "execution_count": 1,
   "id": "52a790ab",
   "metadata": {},
   "outputs": [],
   "source": [
    "import numpy as np\n",
    "import matplotlib.pyplot as plt\n",
    "import scipy as sp\n",
    "from scipy.linalg import expm, sqrtm\n",
    "np.random.seed(123)"
   ]
  },
  {
   "cell_type": "code",
   "execution_count": 239,
   "id": "902f395f",
   "metadata": {},
   "outputs": [],
   "source": [
    "from numba import jit"
   ]
  },
  {
   "cell_type": "code",
   "execution_count": 240,
   "id": "77104f87",
   "metadata": {},
   "outputs": [],
   "source": [
    "def purityCalc(rho):\n",
    "    '''Calculate purity of state @rho'''\n",
    "    return np.trace(rho.dot(rho))\n",
    "\n",
    "def Fidelity(rho_0, rho_1):\n",
    "    '''\n",
    "    calculate Fidelity of @rho_0 and @rho_1\n",
    "    '''\n",
    "    \n",
    "    #sqrt_rho_0 = sqrtm(rho_0)\n",
    "    sqrt_rho_0 = sp.linalg.sqrtm(rho_0)\n",
    "    F = np.trace(sqrtm(sqrt_rho_0 @ rho_1 @ sqrt_rho_0))**2\n",
    "    return F\n",
    "\n",
    "#@jit(parallel=True)\n",
    "def Fidelity_evol(rho_0, rho_t, t):\n",
    "    F = np.zeros_like(t, dtype=np.float64)\n",
    "    for i in range(t.shape[0]):\n",
    "        F[i] = Fidelity(rho_0, rho_t[i])\n",
    "        \n",
    "    return F"
   ]
  },
  {
   "cell_type": "markdown",
   "id": "4a6bf5bf",
   "metadata": {},
   "source": [
    "Рассчитаем эволюцию под действием гамильтониана \n",
    "$$\\hat{H} = \\pi\\hat\\sigma_z + \\frac{5\\pi}{2}\\cos(5t)\\hat\\sigma_x$$\n",
    "$t \\in [0;2]$"
   ]
  },
  {
   "cell_type": "code",
   "execution_count": 241,
   "id": "c2220f1d",
   "metadata": {},
   "outputs": [],
   "source": [
    "# generation of mixed state\n",
    "\n",
    "d = 2\n",
    "k = 10\n",
    "\n",
    "psi = np.array([np.random.normal(0, 1, d*k) + 1j*np.random.normal(0, 1, d*k)])\n",
    "norm = np.sqrt(np.sum(np.abs(psi)**2))\n",
    "psi /= norm\n",
    "\n",
    "pure_rho = np.outer(psi, psi.conj())\n",
    "mixed_rho = np.trace(pure_rho.reshape(d,k,d,k), axis1=1, axis2=3) # trace on subsystem"
   ]
  },
  {
   "cell_type": "code",
   "execution_count": 242,
   "id": "491460ce",
   "metadata": {},
   "outputs": [
    {
     "name": "stdout",
     "output_type": "stream",
     "text": [
      "Чистота состояния:  0.561\n"
     ]
    }
   ],
   "source": [
    "# check state is mexed or not\n",
    "purity = purityCalc(mixed_rho)\n",
    "print(\"Чистота состояния: \" , np.round(purity.real,3))"
   ]
  },
  {
   "cell_type": "markdown",
   "id": "f7c60415",
   "metadata": {},
   "source": [
    "#### Уравнение Фон Неймана"
   ]
  },
  {
   "cell_type": "code",
   "execution_count": 243,
   "id": "a13b1560",
   "metadata": {},
   "outputs": [],
   "source": [
    "sigma_z = np.array([[1,0],\n",
    "                  [0,-1]], dtype=np.complex64)\n",
    "sigma_y = np.array([[0,-1j],\n",
    "                  [1j,0]], dtype=np.complex64)\n",
    "sigma_x = np.array([[0,1],\n",
    "                  [1,0]], dtype=np.complex64)\n",
    "identity = np.array([[1,0],\n",
    "                  [0,1]], dtype=np.complex64)\n",
    "\n",
    "sigma_array = [identity, sigma_x, sigma_y, sigma_z]\n",
    "\n",
    "def H(t):\n",
    "    return np.pi*sigma_z + 5*np.pi/2*np.cos(t)*sigma_x\n",
    "\n",
    "def commutator(A,B):\n",
    "    return A@B - B@A\n",
    "\n",
    "def von_Neumann_evolution(t, H, rho_0):\n",
    "    '''\n",
    "    calculate time evolution of @rho_0 using von Neumann equation on grid @t \n",
    "    @H -- function H(t, args)\n",
    "    '''\n",
    "    rho_t = np.zeros((t.shape[0], rho_0.shape[0], rho_0.shape[1]), dtype=np.complex64)\n",
    "    rho_t[0] = rho_0\n",
    "    dt = t[1]-t[0]\n",
    "    \n",
    "    for n in range(t.shape[0]-1):\n",
    "        rho_t[n+1] = rho_t[n] +  dt*1j*commutator(rho_t[n], H(t[n]))\n",
    "        \n",
    "    return rho_t"
   ]
  },
  {
   "cell_type": "code",
   "execution_count": 244,
   "id": "e526d986",
   "metadata": {},
   "outputs": [
    {
     "name": "stdout",
     "output_type": "stream",
     "text": [
      "Wall time: 36 ms\n"
     ]
    }
   ],
   "source": [
    "%%time\n",
    "t_final = 2\n",
    "t_start = 0\n",
    "dt_arr = np.array([1e-1, 1e-2, 1e-3])\n",
    "n_iter = 1000\n",
    "\n",
    "t_arr = []\n",
    "rho_t_arr = []\n",
    "for i in range(3):\n",
    "    t = np.linspace(t_start, t_final, int((t_final-t_start)/dt_arr[i]))\n",
    "    rho_t = von_Neumann_evolution(t, H, mixed_rho)\n",
    "    \n",
    "    t_arr.append(t)\n",
    "    rho_t_arr.append(rho_t)"
   ]
  },
  {
   "cell_type": "code",
   "execution_count": 245,
   "id": "9715f034",
   "metadata": {},
   "outputs": [
    {
     "name": "stderr",
     "output_type": "stream",
     "text": [
      "C:\\Users\\duhak\\AppData\\Local\\Temp/ipykernel_15552/1109351770.py:19: ComplexWarning: Casting complex values to real discards the imaginary part\n",
      "  F[i] = Fidelity(rho_0, rho_t[i])\n",
      "C:\\Users\\duhak\\AppData\\Local\\Temp/ipykernel_15552/1109351770.py:19: ComplexWarning: Casting complex values to real discards the imaginary part\n",
      "  F[i] = Fidelity(rho_0, rho_t[i])\n",
      "C:\\Users\\duhak\\AppData\\Local\\Temp/ipykernel_15552/1109351770.py:19: ComplexWarning: Casting complex values to real discards the imaginary part\n",
      "  F[i] = Fidelity(rho_0, rho_t[i])\n"
     ]
    },
    {
     "name": "stdout",
     "output_type": "stream",
     "text": [
      "Wall time: 243 ms\n"
     ]
    },
    {
     "data": {
      "text/plain": [
       "<matplotlib.legend.Legend at 0x1b48c53f9d0>"
      ]
     },
     "execution_count": 245,
     "metadata": {},
     "output_type": "execute_result"
    },
    {
     "data": {
      "image/png": "[encoded data removed]",
      "text/plain": [
       "<Figure size 432x288 with 1 Axes>"
      ]
     },
     "metadata": {
      "needs_background": "light"
     },
     "output_type": "display_data"
    }
   ],
   "source": [
    "%%time\n",
    "for i in range(3):\n",
    "    y = Fidelity_evol(mixed_rho, rho_t_arr[i], t_arr[i])\n",
    "    plt.plot(t_arr[i], y, label=f\"dt={dt_arr[i]}\")\n",
    "    \n",
    "plt.ylim(0.7, 1)\n",
    "plt.xlabel(\"time\")\n",
    "plt.ylabel(\"Fidelity\")\n",
    "plt.legend()"
   ]
  },
  {
   "cell_type": "markdown",
   "id": "7ff68817",
   "metadata": {},
   "source": [
    "Как видно метод обладает не самой лучшей сходимостью"
   ]
  },
  {
   "cell_type": "markdown",
   "id": "792c0a32",
   "metadata": {},
   "source": [
    "#### Оператор эволюции"
   ]
  },
  {
   "cell_type": "code",
   "execution_count": 144,
   "id": "d235d561",
   "metadata": {},
   "outputs": [],
   "source": [
    "def Heizenberg_evolution(t, H, rho_0):\n",
    "    '''\n",
    "    calculate time evolution of @rho_0 using Heizenberg equation on grid @t \n",
    "    @H -- function H(t, args)\n",
    "    '''\n",
    "    rho_t = np.zeros((t.shape[0], rho_0.shape[0], rho_0.shape[1]), dtype=np.complex64)\n",
    "    rho_t[0] = rho_0\n",
    "    \n",
    "    dt = t[1] - t[0]\n",
    "    \n",
    "    for n in range(t.shape[0]-1):\n",
    "        U = expm(-1j*H(t[n])*dt)\n",
    "        rho_t[n+1] = U @ rho_t[n] @ U.T.conj() \n",
    "        \n",
    "    return rho_t"
   ]
  },
  {
   "cell_type": "code",
   "execution_count": 149,
   "id": "e1784097",
   "metadata": {},
   "outputs": [],
   "source": [
    "t = np.linspace(t_start, t_final, n_iter)\n",
    "dt = t[1] - t[0]\n",
    "rho_t_Heiz =  Heizenberg_evolution(t, H, mixed_rho)"
   ]
  },
  {
   "cell_type": "code",
   "execution_count": 150,
   "id": "9bf37282",
   "metadata": {},
   "outputs": [
    {
     "data": {
      "text/plain": [
       "(1000, 2, 2)"
      ]
     },
     "execution_count": 150,
     "metadata": {},
     "output_type": "execute_result"
    }
   ],
   "source": [
    "rho_t_Heiz.shape"
   ]
  },
  {
   "cell_type": "code",
   "execution_count": 154,
   "id": "ee0d6b34",
   "metadata": {},
   "outputs": [
    {
     "name": "stderr",
     "output_type": "stream",
     "text": [
      "C:\\Users\\duhak\\AppData\\Local\\Temp/ipykernel_15552/2849458647.py:17: ComplexWarning: Casting complex values to real discards the imaginary part\n",
      "  F[i] = Fidelity(rho_0, rho_t[i])\n",
      "C:\\Users\\duhak\\AppData\\Local\\Temp/ipykernel_15552/2849458647.py:17: ComplexWarning: Casting complex values to real discards the imaginary part\n",
      "  F[i] = Fidelity(rho_0, rho_t[i])\n"
     ]
    },
    {
     "data": {
      "text/plain": [
       "Text(0, 0.5, 'Fidelity')"
      ]
     },
     "execution_count": 154,
     "metadata": {},
     "output_type": "execute_result"
    },
    {
     "data": {
      "image/png": "[encoded data removed]",
      "text/plain": [
       "<Figure size 576x432 with 1 Axes>"
      ]
     },
     "metadata": {
      "needs_background": "light"
     },
     "output_type": "display_data"
    }
   ],
   "source": [
    "plt.figure(figsize=(8,6))\n",
    "plt.plot(t, Fidelity_evol(mixed_rho, rho_t_Heiz, t), label=\"Method of Heizenberg evolution\")\n",
    "plt.plot(t_arr[2], Fidelity_evol(mixed_rho, rho_t_arr[2], t_arr[2]), label=\"Method of von Neumann evolution\")\n",
    "plt.xlabel(\"time\")\n",
    "plt.ylabel(\"Fidelity\")"
   ]
  },
  {
   "cell_type": "markdown",
   "id": "aa7dc668",
   "metadata": {},
   "source": [
    "### Задание№2"
   ]
  },
  {
   "cell_type": "code",
   "execution_count": 37,
   "id": "61dcaaaf",
   "metadata": {},
   "outputs": [],
   "source": [
    "def DepolarizedNoise(p):\n",
    "    E0 = 2*np.sqrt(1-3*p)/2*np.identity(2)\n",
    "    E1 = 2*np.sqrt(p)/2*sigma_x\n",
    "    E2 = 2*np.sqrt(p)/2*sigma_y\n",
    "    E3 = 2*np.sqrt(p)/2*sigma_z\n",
    "    \n",
    "    return E0, E1, E2, E3"
   ]
  },
  {
   "cell_type": "code",
   "execution_count": 38,
   "id": "e040e7c9",
   "metadata": {},
   "outputs": [],
   "source": [
    "p = 0.15\n",
    "E0, E1, E2, E3 = DepolarizedNoise(p)\n",
    "E = [E0, E1, E2, E3]"
   ]
  },
  {
   "cell_type": "markdown",
   "id": "3aef5074",
   "metadata": {},
   "source": [
    "#### Матрица Чоя-Ямилковкого"
   ]
  },
  {
   "cell_type": "code",
   "execution_count": 178,
   "id": "883edb5a",
   "metadata": {},
   "outputs": [],
   "source": [
    "for i in range(len(E)):\n",
    "    \n",
    "    s = E[i].shape[0]\n",
    "    e_i = E[i].reshape(s**2,1)\n",
    "    \n",
    "    if i==0:\n",
    "        e = e_i.copy()\n",
    "        continue\n",
    "        \n",
    "    e = np.concatenate((e, e_i), axis=1)\n",
    "    \n",
    "xi = e @ e.T.conj()"
   ]
  },
  {
   "cell_type": "code",
   "execution_count": 179,
   "id": "14e8620e",
   "metadata": {},
   "outputs": [
    {
     "data": {
      "text/plain": [
       "array([[0.70000001+0.j, 0.        +0.j, 0.        +0.j, 0.39999999+0.j],\n",
       "       [0.        +0.j, 0.30000002+0.j, 0.        +0.j, 0.        +0.j],\n",
       "       [0.        +0.j, 0.        +0.j, 0.30000002+0.j, 0.        +0.j],\n",
       "       [0.39999999+0.j, 0.        +0.j, 0.        +0.j, 0.70000001+0.j]])"
      ]
     },
     "execution_count": 179,
     "metadata": {},
     "output_type": "execute_result"
    }
   ],
   "source": [
    "xi"
   ]
  },
  {
   "cell_type": "markdown",
   "id": "fd06cca3",
   "metadata": {},
   "source": [
    "Проверим, что матрица единичная"
   ]
  },
  {
   "cell_type": "code",
   "execution_count": 41,
   "id": "c8fdb8dd",
   "metadata": {},
   "outputs": [
    {
     "data": {
      "text/plain": [
       "array([[1.00000003+0.j, 0.        +0.j],\n",
       "       [0.        +0.j, 1.00000003+0.j]])"
      ]
     },
     "execution_count": 41,
     "metadata": {},
     "output_type": "execute_result"
    }
   ],
   "source": [
    "np.trace(xi.reshape(2,2,2,2), axis1=1, axis2=3)"
   ]
  },
  {
   "cell_type": "code",
   "execution_count": 180,
   "id": "ced74e00",
   "metadata": {},
   "outputs": [],
   "source": [
    "def Craus(rho_in, E):8\n",
    "    rho_out = np.zeros_like(rho_in)\n",
    "    \n",
    "    for j in range(len(E)):\n",
    "        rho_out += E[j] @ rho_in @ E[j].T.conj()\n",
    "            \n",
    "    return rho_out\n",
    "\n",
    "def Choy_Yamilkosky(rho_in, xi):\n",
    "    rho_out = np.zeros_like(rho_in)\n",
    "    \n",
    "    s1 = np.array([[1,0],[0,0]])\n",
    "    s2 = np.array([[0,1],[0,0]])\n",
    "    s3 = np.array([[0,0],[1,0]])\n",
    "    s4 = np.array([[0,0],[0,1]])\n",
    "    s = [s1,s2,s3,s4]\n",
    "    \n",
    "    for i in range(len(s)):\n",
    "        for j in range(len(s)):\n",
    "            rho_out += xi[i][j] * s[i] @ rho_in @ s[j].T\n",
    "            \n",
    "    return rho_out\n",
    "\n",
    "def Evolition_operator(rho_in, E):\n",
    "    s1, s2 = rho_in.shape\n",
    "    rho_temp = rho_in.copy()\n",
    "    rho_temp = rho_temp.reshape(s1*s2)\n",
    "    \n",
    "    G = np.zeros((E[0].shape[0]**2, E[0].shape[0]**2), dtype=np.complex64)\n",
    "    for i in range(len(E)):\n",
    "        G += np.kron(E[i].conj(), E[i])\n",
    "        \n",
    "    return np.dot(G, rho_temp).reshape(s1,s2)"
   ]
  },
  {
   "cell_type": "code",
   "execution_count": 181,
   "id": "63d5c30d",
   "metadata": {},
   "outputs": [
    {
     "data": {
      "text/plain": [
       "4"
      ]
     },
     "execution_count": 181,
     "metadata": {},
     "output_type": "execute_result"
    }
   ],
   "source": [
    "len(sigma_array)"
   ]
  },
  {
   "cell_type": "markdown",
   "id": "3b893a97",
   "metadata": {},
   "source": [
    "Эволюция с помощью матрицы Чоя-Ямилковского"
   ]
  },
  {
   "cell_type": "code",
   "execution_count": 182,
   "id": "8b811c7f",
   "metadata": {},
   "outputs": [
    {
     "data": {
      "text/plain": [
       "array([[ 0.49489103+0.j        , -0.06926223+0.00653895j],\n",
       "       [-0.06926223-0.00653895j,  0.505109  +0.j        ]])"
      ]
     },
     "execution_count": 182,
     "metadata": {},
     "output_type": "execute_result"
    }
   ],
   "source": [
    "rho_out_1 = Choy_Yamilkosky(mixed_rho, xi)\n",
    "rho_out_1"
   ]
  },
  {
   "cell_type": "markdown",
   "id": "711a9d5c",
   "metadata": {},
   "source": [
    "Эволюция с помощью операторов Крауса"
   ]
  },
  {
   "cell_type": "code",
   "execution_count": 177,
   "id": "12cff8f2",
   "metadata": {},
   "outputs": [
    {
     "data": {
      "text/plain": [
       "array([[ 0.49489103+0.j        , -0.06926223+0.00653895j],\n",
       "       [-0.06926223-0.00653895j,  0.505109  +0.j        ]])"
      ]
     },
     "execution_count": 177,
     "metadata": {},
     "output_type": "execute_result"
    }
   ],
   "source": [
    "rho_out_2 = Craus(mixed_rho, E)\n",
    "rho_out_2"
   ]
  },
  {
   "cell_type": "markdown",
   "id": "defdc49c",
   "metadata": {},
   "source": [
    "Эволюция с помощью оператора эволюции"
   ]
  },
  {
   "cell_type": "code",
   "execution_count": 79,
   "id": "a76f3121",
   "metadata": {},
   "outputs": [
    {
     "data": {
      "text/plain": [
       "array([[ 0.49489104+0.j        , -0.06926223+0.00653895j],\n",
       "       [-0.06926223-0.00653895j,  0.50510902+0.j        ]])"
      ]
     },
     "execution_count": 79,
     "metadata": {},
     "output_type": "execute_result"
    }
   ],
   "source": [
    "rho_out_3 = Evolition_operator(mixed_rho, E)\n",
    "rho_out_3"
   ]
  },
  {
   "cell_type": "code",
   "execution_count": 155,
   "id": "4f75214a",
   "metadata": {},
   "outputs": [
    {
     "data": {
      "text/plain": [
       "array([[ 0.48722754+0.j        , -0.17315557+0.01634739j,\n",
       "        -0.17315557-0.01634739j,  0.51277246+0.j        ]])"
      ]
     },
     "execution_count": 155,
     "metadata": {},
     "output_type": "execute_result"
    }
   ],
   "source": [
    "mixed_rho.reshape(1,4)"
   ]
  },
  {
   "cell_type": "code",
   "execution_count": null,
   "id": "01deb02d",
   "metadata": {},
   "outputs": [],
   "source": []
  },
  {
   "cell_type": "code",
   "execution_count": 171,
   "id": "bcdc6922",
   "metadata": {},
   "outputs": [
    {
     "data": {
      "text/plain": [
       "array([[0.6999999 +0.j, 0.        +0.j, 0.        +0.j, 0.39999998+0.j],\n",
       "       [0.        +0.j, 0.29999998+0.j, 0.        +0.j, 0.        +0.j],\n",
       "       [0.        +0.j, 0.        +0.j, 0.29999998+0.j, 0.        +0.j],\n",
       "       [0.39999998+0.j, 0.        +0.j, 0.        +0.j, 0.6999999 +0.j]],\n",
       "      dtype=complex64)"
      ]
     },
     "execution_count": 171,
     "metadata": {},
     "output_type": "execute_result"
    }
   ],
   "source": [
    "Psi = 1/np.sqrt(2)*np.array([1.,0.,0.,1.], dtype=np.complex64)\n",
    "bell_rho = np.outer(Psi, Psi.conj())\n",
    "E_extend = []\n",
    "\n",
    "for i in range(4):\n",
    "    E_extend.append(np.kron(identity, E[i]))\n",
    "\n",
    "xi_2 = 2*Craus(bell_rho, E_extend)\n",
    "xi_2"
   ]
  }
 ],
 "metadata": {
  "kernelspec": {
   "display_name": "Python 3 (ipykernel)",
   "language": "python",
   "name": "python3"
  },
  "language_info": {
   "codemirror_mode": {
    "name": "ipython",
    "version": 3
   },
   "file_extension": ".py",
   "mimetype": "text/x-python",
   "name": "python",
   "nbconvert_exporter": "python",
   "pygments_lexer": "ipython3",
   "version": "3.9.7"
  }
 },
 "nbformat": 4,
 "nbformat_minor": 5
}
